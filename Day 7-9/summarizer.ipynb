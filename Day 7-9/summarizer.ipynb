{
  "nbformat": 4,
  "nbformat_minor": 0,
  "metadata": {
    "colab": {
      "name": "summarizer.ipynb",
      "version": "0.3.2",
      "provenance": []
    },
    "kernelspec": {
      "name": "python3",
      "display_name": "Python 3"
    },
    "accelerator": "GPU"
  },
  "cells": [
    {
      "cell_type": "code",
      "metadata": {
        "id": "XIJPQHgKcQLs",
        "colab_type": "code",
        "outputId": "e372301f-0b49-4ff0-b16d-5f5ac1c5d1fb",
        "colab": {
          "base_uri": "https://localhost:8080/",
          "height": 68
        }
      },
      "source": [
        "import nltk\n",
        "nltk.download('punkt')"
      ],
      "execution_count": 0,
      "outputs": [
        {
          "output_type": "stream",
          "text": [
            "[nltk_data] Downloading package punkt to /root/nltk_data...\n",
            "[nltk_data]   Unzipping tokenizers/punkt.zip.\n"
          ],
          "name": "stdout"
        },
        {
          "output_type": "execute_result",
          "data": {
            "text/plain": [
              "True"
            ]
          },
          "metadata": {
            "tags": []
          },
          "execution_count": 1
        }
      ]
    },
    {
      "cell_type": "code",
      "metadata": {
        "id": "MchV_Si1cZzw",
        "colab_type": "code",
        "colab": {}
      },
      "source": [
        "from nltk.tokenize import word_tokenize\n",
        "import re\n",
        "import collections\n",
        "import pickle\n",
        "import numpy as np\n",
        "from gensim.models.keyedvectors import KeyedVectors\n",
        "from gensim.test.utils import get_tmpfile\n",
        "from gensim.scripts.glove2word2vec import glove2word2vec\n"
      ],
      "execution_count": 0,
      "outputs": []
    },
    {
      "cell_type": "code",
      "metadata": {
        "id": "aZGTRGh1c02r",
        "colab_type": "code",
        "outputId": "4577a042-0488-4b5b-e5ed-0ebb3dfdfd8c",
        "colab": {
          "base_uri": "https://localhost:8080/",
          "height": 394
        }
      },
      "source": [
        "!pip install paramiko\n"
      ],
      "execution_count": 0,
      "outputs": [
        {
          "output_type": "stream",
          "text": [
            "Collecting paramiko\n",
            "\u001b[?25l  Downloading https://files.pythonhosted.org/packages/cf/ae/94e70d49044ccc234bfdba20114fa947d7ba6eb68a2e452d89b920e62227/paramiko-2.4.2-py2.py3-none-any.whl (193kB)\n",
            "\u001b[K    100% |████████████████████████████████| 194kB 7.9MB/s \n",
            "\u001b[?25hCollecting cryptography>=1.5 (from paramiko)\n",
            "\u001b[?25l  Downloading https://files.pythonhosted.org/packages/5b/12/b0409a94dad366d98a8eee2a77678c7a73aafd8c0e4b835abea634ea3896/cryptography-2.6.1-cp34-abi3-manylinux1_x86_64.whl (2.3MB)\n",
            "\u001b[K    100% |████████████████████████████████| 2.3MB 15.9MB/s \n",
            "\u001b[?25hCollecting bcrypt>=3.1.3 (from paramiko)\n",
            "\u001b[?25l  Downloading https://files.pythonhosted.org/packages/d0/79/79a4d167a31cc206117d9b396926615fa9c1fdbd52017bcced80937ac501/bcrypt-3.1.6-cp34-abi3-manylinux1_x86_64.whl (55kB)\n",
            "\u001b[K    100% |████████████████████████████████| 61kB 27.8MB/s \n",
            "\u001b[?25hCollecting pynacl>=1.0.1 (from paramiko)\n",
            "\u001b[?25l  Downloading https://files.pythonhosted.org/packages/27/15/2cd0a203f318c2240b42cd9dd13c931ddd61067809fee3479f44f086103e/PyNaCl-1.3.0-cp34-abi3-manylinux1_x86_64.whl (759kB)\n",
            "\u001b[K    100% |████████████████████████████████| 768kB 32.9MB/s \n",
            "\u001b[?25hRequirement already satisfied: pyasn1>=0.1.7 in /usr/local/lib/python3.6/dist-packages (from paramiko) (0.4.5)\n",
            "Collecting asn1crypto>=0.21.0 (from cryptography>=1.5->paramiko)\n",
            "\u001b[?25l  Downloading https://files.pythonhosted.org/packages/ea/cd/35485615f45f30a510576f1a56d1e0a7ad7bd8ab5ed7cdc600ef7cd06222/asn1crypto-0.24.0-py2.py3-none-any.whl (101kB)\n",
            "\u001b[K    100% |████████████████████████████████| 102kB 36.4MB/s \n",
            "\u001b[?25hRequirement already satisfied: six>=1.4.1 in /usr/local/lib/python3.6/dist-packages (from cryptography>=1.5->paramiko) (1.12.0)\n",
            "Requirement already satisfied: cffi!=1.11.3,>=1.8 in /usr/local/lib/python3.6/dist-packages (from cryptography>=1.5->paramiko) (1.12.3)\n",
            "Requirement already satisfied: pycparser in /usr/local/lib/python3.6/dist-packages (from cffi!=1.11.3,>=1.8->cryptography>=1.5->paramiko) (2.19)\n",
            "Installing collected packages: asn1crypto, cryptography, bcrypt, pynacl, paramiko\n",
            "Successfully installed asn1crypto-0.24.0 bcrypt-3.1.6 cryptography-2.6.1 paramiko-2.4.2 pynacl-1.3.0\n"
          ],
          "name": "stdout"
        }
      ]
    },
    {
      "cell_type": "code",
      "metadata": {
        "id": "VlHVnkAtc6Zr",
        "colab_type": "code",
        "colab": {}
      },
      "source": [
        "import logging \n",
        "logging.basicConfig(format='%(asctime)s : %(levelname)s : %(message)s', level=logging.INFO)"
      ],
      "execution_count": 0,
      "outputs": []
    },
    {
      "cell_type": "code",
      "metadata": {
        "id": "nVQbgkUdeW1D",
        "colab_type": "code",
        "colab": {}
      },
      "source": [
        "documents = [\"Human machine interface for lab abc computer applications\",\"A survey of user opinion of computer system response time\",\"The EPS user interface management system\",\"System and human system engineering testing of EPS\",\"Relation of user perceived response time to error measurement\",\"The generation of random binary unordered trees\",\"The intersection graph of paths in trees\",\"Graph minors IV Widths of trees and well quasi ordering\",\"Graph minors A survey\"]"
      ],
      "execution_count": 0,
      "outputs": []
    },
    {
      "cell_type": "code",
      "metadata": {
        "id": "utQlsNmTeuNR",
        "colab_type": "code",
        "colab": {}
      },
      "source": [
        "from pprint import pprint\n",
        "from collections import defaultdict"
      ],
      "execution_count": 0,
      "outputs": []
    },
    {
      "cell_type": "code",
      "metadata": {
        "id": "pQJZEAume7Rg",
        "colab_type": "code",
        "colab": {}
      },
      "source": [
        "stoplist = set('for a of the and to in'.split())\n",
        "texts = [\n",
        "    [word for word in document.lower().split() if word not in stoplist]\n",
        "    for document in documents\n",
        "]"
      ],
      "execution_count": 0,
      "outputs": []
    },
    {
      "cell_type": "code",
      "metadata": {
        "id": "P59xfOKlfU0v",
        "colab_type": "code",
        "outputId": "2f16801b-5c61-41a6-8ea0-70146e4417df",
        "colab": {
          "base_uri": "https://localhost:8080/",
          "height": 190
        }
      },
      "source": [
        "texts"
      ],
      "execution_count": 0,
      "outputs": [
        {
          "output_type": "execute_result",
          "data": {
            "text/plain": [
              "[['human', 'machine', 'interface', 'lab', 'abc', 'computer', 'applications'],\n",
              " ['survey', 'user', 'opinion', 'computer', 'system', 'response', 'time'],\n",
              " ['eps', 'user', 'interface', 'management', 'system'],\n",
              " ['system', 'human', 'system', 'engineering', 'testing', 'eps'],\n",
              " ['relation', 'user', 'perceived', 'response', 'time', 'error', 'measurement'],\n",
              " ['generation', 'random', 'binary', 'unordered', 'trees'],\n",
              " ['intersection', 'graph', 'paths', 'trees'],\n",
              " ['graph', 'minors', 'iv', 'widths', 'trees', 'well', 'quasi', 'ordering'],\n",
              " ['graph', 'minors', 'survey']]"
            ]
          },
          "metadata": {
            "tags": []
          },
          "execution_count": 11
        }
      ]
    },
    {
      "cell_type": "code",
      "metadata": {
        "id": "QiO0VbG7fYGP",
        "colab_type": "code",
        "colab": {}
      },
      "source": [
        "frequency = defaultdict(int)"
      ],
      "execution_count": 0,
      "outputs": []
    },
    {
      "cell_type": "code",
      "metadata": {
        "id": "LBtF01S0gG4V",
        "colab_type": "code",
        "colab": {}
      },
      "source": [
        "for text in texts:\n",
        "  for token in text:\n",
        "    frequency[token] += 1"
      ],
      "execution_count": 0,
      "outputs": []
    },
    {
      "cell_type": "code",
      "metadata": {
        "id": "SPbMuURegIDZ",
        "colab_type": "code",
        "outputId": "dc7469c5-fdae-4c3c-dcc8-735d1c0a9549",
        "colab": {
          "base_uri": "https://localhost:8080/",
          "height": 629
        }
      },
      "source": [
        "frequency"
      ],
      "execution_count": 0,
      "outputs": [
        {
          "output_type": "execute_result",
          "data": {
            "text/plain": [
              "defaultdict(int,\n",
              "            {'abc': 1,\n",
              "             'applications': 1,\n",
              "             'binary': 1,\n",
              "             'computer': 2,\n",
              "             'engineering': 1,\n",
              "             'eps': 2,\n",
              "             'error': 1,\n",
              "             'generation': 1,\n",
              "             'graph': 3,\n",
              "             'human': 2,\n",
              "             'interface': 2,\n",
              "             'intersection': 1,\n",
              "             'iv': 1,\n",
              "             'lab': 1,\n",
              "             'machine': 1,\n",
              "             'management': 1,\n",
              "             'measurement': 1,\n",
              "             'minors': 2,\n",
              "             'opinion': 1,\n",
              "             'ordering': 1,\n",
              "             'paths': 1,\n",
              "             'perceived': 1,\n",
              "             'quasi': 1,\n",
              "             'random': 1,\n",
              "             'relation': 1,\n",
              "             'response': 2,\n",
              "             'survey': 2,\n",
              "             'system': 4,\n",
              "             'testing': 1,\n",
              "             'time': 2,\n",
              "             'trees': 3,\n",
              "             'unordered': 1,\n",
              "             'user': 3,\n",
              "             'well': 1,\n",
              "             'widths': 1})"
            ]
          },
          "metadata": {
            "tags": []
          },
          "execution_count": 15
        }
      ]
    },
    {
      "cell_type": "code",
      "metadata": {
        "id": "BIfvTX_wgQJx",
        "colab_type": "code",
        "colab": {}
      },
      "source": [
        ""
      ],
      "execution_count": 0,
      "outputs": []
    },
    {
      "cell_type": "code",
      "metadata": {
        "id": "cGOERLhSgdri",
        "colab_type": "code",
        "colab": {}
      },
      "source": [
        "texts = [\n",
        "    [token for token in text if frequency[token]>1]\n",
        "    for text in texts\n",
        "]"
      ],
      "execution_count": 0,
      "outputs": []
    },
    {
      "cell_type": "code",
      "metadata": {
        "id": "R9MSApWfgyac",
        "colab_type": "code",
        "outputId": "c3a9ba0b-0ae8-4a1f-8cf6-218372045a13",
        "colab": {
          "base_uri": "https://localhost:8080/",
          "height": 170
        }
      },
      "source": [
        "pprint(texts)"
      ],
      "execution_count": 0,
      "outputs": [
        {
          "output_type": "stream",
          "text": [
            "[['human', 'interface', 'computer'],\n",
            " ['survey', 'user', 'computer', 'system', 'response', 'time'],\n",
            " ['eps', 'user', 'interface', 'system'],\n",
            " ['system', 'human', 'system', 'eps'],\n",
            " ['user', 'response', 'time'],\n",
            " ['trees'],\n",
            " ['graph', 'trees'],\n",
            " ['graph', 'minors', 'trees'],\n",
            " ['graph', 'minors', 'survey']]\n"
          ],
          "name": "stdout"
        }
      ]
    },
    {
      "cell_type": "code",
      "metadata": {
        "id": "7ZEpUh_Ng0XX",
        "colab_type": "code",
        "colab": {}
      },
      "source": [
        "from gensim import corpora"
      ],
      "execution_count": 0,
      "outputs": []
    },
    {
      "cell_type": "code",
      "metadata": {
        "id": "QcqkOEahg2HG",
        "colab_type": "code",
        "outputId": "a0c8368c-1c19-4980-f565-69ea3f350374",
        "colab": {
          "base_uri": "https://localhost:8080/",
          "height": 71
        }
      },
      "source": [
        "dictionary = corpora.Dictionary(texts)"
      ],
      "execution_count": 0,
      "outputs": [
        {
          "output_type": "stream",
          "text": [
            "2019-04-26 07:20:51,339 : INFO : adding document #0 to Dictionary(0 unique tokens: [])\n",
            "2019-04-26 07:20:51,341 : INFO : built Dictionary(12 unique tokens: ['computer', 'human', 'interface', 'response', 'survey']...) from 9 documents (total 29 corpus positions)\n"
          ],
          "name": "stderr"
        }
      ]
    },
    {
      "cell_type": "code",
      "metadata": {
        "id": "vONL2cw8hKvb",
        "colab_type": "code",
        "outputId": "6ae1e77a-4c73-4fc7-a676-926e2108e7fb",
        "colab": {
          "base_uri": "https://localhost:8080/",
          "height": 105
        }
      },
      "source": [
        "dictionary.save('deerwester.dict')\n",
        "print(dictionary)"
      ],
      "execution_count": 0,
      "outputs": [
        {
          "output_type": "stream",
          "text": [
            "2019-04-26 07:21:37,659 : INFO : saving Dictionary object under deerwester.dict, separately None\n",
            "2019-04-26 07:21:37,661 : WARNING : this function is deprecated, use smart_open.open instead\n",
            "2019-04-26 07:21:37,663 : INFO : saved deerwester.dict\n"
          ],
          "name": "stderr"
        },
        {
          "output_type": "stream",
          "text": [
            "Dictionary(12 unique tokens: ['computer', 'human', 'interface', 'response', 'survey']...)\n"
          ],
          "name": "stdout"
        }
      ]
    },
    {
      "cell_type": "code",
      "metadata": {
        "id": "sEA-EknBhS3S",
        "colab_type": "code",
        "outputId": "9089c7e6-b168-45e1-cb0c-87c2427ae9bc",
        "colab": {
          "base_uri": "https://localhost:8080/",
          "height": 54
        }
      },
      "source": [
        "print(dictionary.token2id)"
      ],
      "execution_count": 0,
      "outputs": [
        {
          "output_type": "stream",
          "text": [
            "{'computer': 0, 'human': 1, 'interface': 2, 'response': 3, 'survey': 4, 'system': 5, 'time': 6, 'user': 7, 'eps': 8, 'trees': 9, 'graph': 10, 'minors': 11}\n"
          ],
          "name": "stdout"
        }
      ]
    },
    {
      "cell_type": "code",
      "metadata": {
        "id": "57iHigBalGYj",
        "colab_type": "code",
        "outputId": "a655d57f-c010-40f4-eb5e-c73891a90829",
        "colab": {
          "base_uri": "https://localhost:8080/",
          "height": 34
        }
      },
      "source": [
        "new_doc = 'Human computer interaction'\n",
        "new_vec = dictionary.doc2bow(new_doc.lower().split())\n",
        "print(new_vec)"
      ],
      "execution_count": 0,
      "outputs": [
        {
          "output_type": "stream",
          "text": [
            "[(0, 1), (1, 1)]\n"
          ],
          "name": "stdout"
        }
      ]
    },
    {
      "cell_type": "code",
      "metadata": {
        "id": "JB2nVu9hmG_r",
        "colab_type": "code",
        "outputId": "474277e4-6cc3-4007-8ede-c12deac45edd",
        "colab": {
          "base_uri": "https://localhost:8080/",
          "height": 173
        }
      },
      "source": [
        "corpus = [dictionary.doc2bow(text) for text in texts]\n",
        "corpora.MmCorpus.serialize('deerwester.mm',corpus)\n",
        "print(corpus)"
      ],
      "execution_count": 0,
      "outputs": [
        {
          "output_type": "stream",
          "text": [
            "2019-04-26 07:45:34,687 : INFO : storing corpus in Matrix Market format to deerwester.mm\n",
            "2019-04-26 07:45:34,691 : WARNING : this function is deprecated, use smart_open.open instead\n",
            "2019-04-26 07:45:34,693 : INFO : saving sparse matrix to deerwester.mm\n",
            "2019-04-26 07:45:34,695 : INFO : PROGRESS: saving document #0\n",
            "2019-04-26 07:45:34,698 : INFO : saved 9x12 matrix, density=25.926% (28/108)\n",
            "2019-04-26 07:45:34,699 : INFO : saving MmCorpus index to deerwester.mm.index\n",
            "2019-04-26 07:45:34,700 : WARNING : this function is deprecated, use smart_open.open instead\n"
          ],
          "name": "stderr"
        },
        {
          "output_type": "stream",
          "text": [
            "[[(0, 1), (1, 1), (2, 1)], [(0, 1), (3, 1), (4, 1), (5, 1), (6, 1), (7, 1)], [(2, 1), (5, 1), (7, 1), (8, 1)], [(1, 1), (5, 2), (8, 1)], [(3, 1), (6, 1), (7, 1)], [(9, 1)], [(9, 1), (10, 1)], [(9, 1), (10, 1), (11, 1)], [(4, 1), (10, 1), (11, 1)]]\n"
          ],
          "name": "stdout"
        }
      ]
    },
    {
      "cell_type": "code",
      "metadata": {
        "id": "aGdrRVNYosZs",
        "colab_type": "code",
        "outputId": "ca5210fe-b4a7-4396-8ff8-abc419e19da7",
        "colab": {
          "base_uri": "https://localhost:8080/",
          "height": 224
        }
      },
      "source": [
        "!wget https://radimrehurek.com/gensim/mycorpus.txt"
      ],
      "execution_count": 0,
      "outputs": [
        {
          "output_type": "stream",
          "text": [
            "--2019-04-26 07:54:01--  https://radimrehurek.com/gensim/mycorpus.txt\n",
            "Resolving radimrehurek.com (radimrehurek.com)... 104.28.21.65, 104.28.20.65, 2606:4700:30::681c:1541, ...\n",
            "Connecting to radimrehurek.com (radimrehurek.com)|104.28.21.65|:443... connected.\n",
            "HTTP request sent, awaiting response... 200 OK\n",
            "Length: 437 [text/plain]\n",
            "Saving to: ‘mycorpus.txt’\n",
            "\n",
            "\rmycorpus.txt          0%[                    ]       0  --.-KB/s               \rmycorpus.txt        100%[===================>]     437  --.-KB/s    in 0s      \n",
            "\n",
            "2019-04-26 07:54:01 (67.1 MB/s) - ‘mycorpus.txt’ saved [437/437]\n",
            "\n"
          ],
          "name": "stdout"
        }
      ]
    },
    {
      "cell_type": "code",
      "metadata": {
        "id": "pIDlQB3Rm04A",
        "colab_type": "code",
        "colab": {}
      },
      "source": [
        "class MyCorpus(object):\n",
        "  def __iter__(self):\n",
        "    for line in open('mycorpus.txt'):\n",
        "      yield dictionary.doc2bow(line.lower().split())"
      ],
      "execution_count": 0,
      "outputs": []
    },
    {
      "cell_type": "code",
      "metadata": {
        "id": "iM2CIsq1nTr2",
        "colab_type": "code",
        "outputId": "f71e03f3-cc49-47c7-b15c-0941bbe92722",
        "colab": {
          "base_uri": "https://localhost:8080/",
          "height": 34
        }
      },
      "source": [
        "corpus_memory_friendly = MyCorpus()\n",
        "print(corpus_memory_friendly)"
      ],
      "execution_count": 0,
      "outputs": [
        {
          "output_type": "stream",
          "text": [
            "<__main__.MyCorpus object at 0x7fe59c86a240>\n"
          ],
          "name": "stdout"
        }
      ]
    },
    {
      "cell_type": "code",
      "metadata": {
        "id": "HmUAs1kSo8Bh",
        "colab_type": "code",
        "outputId": "9a1aa6ef-b605-4719-a301-6b360a33386a",
        "colab": {
          "base_uri": "https://localhost:8080/",
          "height": 170
        }
      },
      "source": [
        "for vector in corpus_memory_friendly:\n",
        "  print(vector)"
      ],
      "execution_count": 0,
      "outputs": [
        {
          "output_type": "stream",
          "text": [
            "[(0, 1), (1, 1), (2, 1)]\n",
            "[(0, 1), (3, 1), (4, 1), (5, 1), (6, 1), (7, 1)]\n",
            "[(2, 1), (5, 1), (7, 1), (8, 1)]\n",
            "[(1, 1), (5, 2), (8, 1)]\n",
            "[(3, 1), (6, 1), (7, 1)]\n",
            "[(9, 1)]\n",
            "[(9, 1), (10, 1)]\n",
            "[(9, 1), (10, 1), (11, 1)]\n",
            "[(4, 1), (10, 1), (11, 1)]\n"
          ],
          "name": "stdout"
        }
      ]
    },
    {
      "cell_type": "code",
      "metadata": {
        "id": "KMr2ROqVpE5e",
        "colab_type": "code",
        "colab": {}
      },
      "source": [
        "from six import iteritems"
      ],
      "execution_count": 0,
      "outputs": []
    },
    {
      "cell_type": "code",
      "metadata": {
        "id": "yIQHj7d6pM0b",
        "colab_type": "code",
        "outputId": "ecb05474-3508-44b7-d448-03bfd56f0ee4",
        "colab": {
          "base_uri": "https://localhost:8080/",
          "height": 71
        }
      },
      "source": [
        "dictionary = corpora.Dictionary(line.lower().split() for line in open('mycorpus.txt'))"
      ],
      "execution_count": 0,
      "outputs": [
        {
          "output_type": "stream",
          "text": [
            "2019-04-26 07:57:06,780 : INFO : adding document #0 to Dictionary(0 unique tokens: [])\n",
            "2019-04-26 07:57:06,782 : INFO : built Dictionary(42 unique tokens: ['abc', 'applications', 'computer', 'for', 'human']...) from 9 documents (total 69 corpus positions)\n"
          ],
          "name": "stderr"
        }
      ]
    },
    {
      "cell_type": "code",
      "metadata": {
        "id": "pEUe0ZzmpQes",
        "colab_type": "code",
        "colab": {}
      },
      "source": [
        "stop_ids = [\n",
        "    dictionary.token2id[stopword]\n",
        "    for stopword in stoplist\n",
        "    if stopword in dictionary.token2id\n",
        "]"
      ],
      "execution_count": 0,
      "outputs": []
    },
    {
      "cell_type": "code",
      "metadata": {
        "id": "axAj0q75pqD4",
        "colab_type": "code",
        "outputId": "c9c84880-ad6c-4154-eb55-d71299c1e6ed",
        "colab": {
          "base_uri": "https://localhost:8080/",
          "height": 34
        }
      },
      "source": [
        "once_ids = [tokenid for tokenid, docfreq in iteritems(dictionary.dfs) if docfreq==1]\n",
        "dictionary.filter_tokens(stop_ids + once_ids)\n",
        "dictionary.compactify()\n",
        "print(dictionary)"
      ],
      "execution_count": 0,
      "outputs": [
        {
          "output_type": "stream",
          "text": [
            "Dictionary(12 unique tokens: ['computer', 'human', 'interface', 'response', 'survey']...)\n"
          ],
          "name": "stdout"
        }
      ]
    },
    {
      "cell_type": "code",
      "metadata": {
        "id": "Uis56Ip6p-A5",
        "colab_type": "code",
        "colab": {}
      },
      "source": [
        ""
      ],
      "execution_count": 0,
      "outputs": []
    }
  ]
}