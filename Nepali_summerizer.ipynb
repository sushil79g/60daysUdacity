{
  "nbformat": 4,
  "nbformat_minor": 0,
  "metadata": {
    "colab": {
      "name": "Nepali summerizer.ipynb",
      "version": "0.3.2",
      "provenance": [],
      "include_colab_link": true
    },
    "kernelspec": {
      "name": "python3",
      "display_name": "Python 3"
    },
    "accelerator": "GPU"
  },
  "cells": [
    {
      "cell_type": "markdown",
      "metadata": {
        "id": "view-in-github",
        "colab_type": "text"
      },
      "source": [
        "<a href=\"https://colab.research.google.com/github/sushil79g/60daysUdacity/blob/master/Nepali_summerizer.ipynb\" target=\"_parent\"><img src=\"https://colab.research.google.com/assets/colab-badge.svg\" alt=\"Open In Colab\"/></a>"
      ]
    },
    {
      "cell_type": "code",
      "metadata": {
        "id": "6TmHl9SAx5HX",
        "colab_type": "code",
        "colab": {
          "base_uri": "https://localhost:8080/",
          "height": 119
        },
        "outputId": "d7b0a095-9a61-4394-c527-96540afd5431"
      },
      "source": [
        "!git clone https://github.com/sushil79g/Nepali_text_summerizer"
      ],
      "execution_count": 1,
      "outputs": [
        {
          "output_type": "stream",
          "text": [
            "Cloning into 'Nepali_text_summerizer'...\n",
            "remote: Enumerating objects: 12, done.\u001b[K\n",
            "remote: Counting objects:   8% (1/12)\u001b[K\rremote: Counting objects:  16% (2/12)\u001b[K\rremote: Counting objects:  25% (3/12)\u001b[K\rremote: Counting objects:  33% (4/12)\u001b[K\rremote: Counting objects:  41% (5/12)\u001b[K\rremote: Counting objects:  50% (6/12)\u001b[K\rremote: Counting objects:  58% (7/12)\u001b[K\rremote: Counting objects:  66% (8/12)\u001b[K\rremote: Counting objects:  75% (9/12)\u001b[K\rremote: Counting objects:  83% (10/12)\u001b[K\rremote: Counting objects:  91% (11/12)\u001b[K\rremote: Counting objects: 100% (12/12)\u001b[K\rremote: Counting objects: 100% (12/12), done.\u001b[K\n",
            "remote: Compressing objects:  10% (1/10)\u001b[K\rremote: Compressing objects:  20% (2/10)\u001b[K\rremote: Compressing objects:  30% (3/10)\u001b[K\rremote: Compressing objects:  40% (4/10)\u001b[K\rremote: Compressing objects:  50% (5/10)\u001b[K\rremote: Compressing objects:  60% (6/10)\u001b[K\rremote: Compressing objects:  70% (7/10)\u001b[K\rremote: Compressing objects:  80% (8/10)\u001b[K\rremote: Compressing objects:  90% (9/10)\u001b[K\rremote: Compressing objects: 100% (10/10)\u001b[K\rremote: Compressing objects: 100% (10/10), done.\u001b[K\n",
            "remote: Total 12 (delta 2), reused 0 (delta 0), pack-reused 0\u001b[K\n",
            "Unpacking objects:   8% (1/12)   \rUnpacking objects:  16% (2/12)   \rUnpacking objects:  25% (3/12)   \rUnpacking objects:  33% (4/12)   \rUnpacking objects:  41% (5/12)   \rUnpacking objects:  50% (6/12)   \rUnpacking objects:  58% (7/12)   \rUnpacking objects:  66% (8/12)   \rUnpacking objects:  75% (9/12)   \rUnpacking objects:  83% (10/12)   \rUnpacking objects:  91% (11/12)   \rUnpacking objects: 100% (12/12)   \rUnpacking objects: 100% (12/12), done.\n"
          ],
          "name": "stdout"
        }
      ]
    },
    {
      "cell_type": "code",
      "metadata": {
        "id": "Tsid1yScyNK5",
        "colab_type": "code",
        "colab": {}
      },
      "source": [
        "from Nepali_text_summerizer.loadembedding import load_vector"
      ],
      "execution_count": 0,
      "outputs": []
    },
    {
      "cell_type": "code",
      "metadata": {
        "id": "CJXphV8k0QJz",
        "colab_type": "code",
        "colab": {
          "base_uri": "https://localhost:8080/",
          "height": 156
        },
        "outputId": "698a1c34-9aef-4f38-e533-fc46adc7868f"
      },
      "source": [
        "word_vec = load_vector()"
      ],
      "execution_count": 3,
      "outputs": [
        {
          "output_type": "stream",
          "text": [
            "Go to this URL in a browser: https://accounts.google.com/o/oauth2/auth?client_id=947318989803-6bn6qk8qdgf4n4g3pfee6491hc0brc4i.apps.googleusercontent.com&redirect_uri=urn%3Aietf%3Awg%3Aoauth%3A2.0%3Aoob&scope=email%20https%3A%2F%2Fwww.googleapis.com%2Fauth%2Fdocs.test%20https%3A%2F%2Fwww.googleapis.com%2Fauth%2Fdrive%20https%3A%2F%2Fwww.googleapis.com%2Fauth%2Fdrive.photos.readonly%20https%3A%2F%2Fwww.googleapis.com%2Fauth%2Fpeopleapi.readonly&response_type=code\n",
            "\n",
            "Enter your authorization code:\n",
            "··········\n",
            "Mounted at /content/drive\n"
          ],
          "name": "stdout"
        },
        {
          "output_type": "stream",
          "text": [
            "/usr/local/lib/python3.6/dist-packages/smart_open/smart_open_lib.py:398: UserWarning: This function is deprecated, use smart_open.open instead. See the migration notes for details: https://github.com/RaRe-Technologies/smart_open/blob/master/README.rst#migrating-to-the-new-open-function\n",
            "  'See the migration notes for details: %s' % _MIGRATION_NOTES_URL\n"
          ],
          "name": "stderr"
        }
      ]
    },
    {
      "cell_type": "code",
      "metadata": {
        "id": "cgHaiNwQBugZ",
        "colab_type": "code",
        "colab": {}
      },
      "source": [
        "import string\n",
        "def preprocess(text):\n",
        "    sentences = text.split(u\"।\")\n",
        "#     abc = text.translate(str.maketrans('', '', string.punctuation))\n",
        "    sentences = [sentence.translate(str.maketrans('', '', string.punctuation)) for sentence in sentences]\n",
        "    return sentences "
      ],
      "execution_count": 0,
      "outputs": []
    },
    {
      "cell_type": "code",
      "metadata": {
        "id": "_bBvuFO32giK",
        "colab_type": "code",
        "colab": {}
      },
      "source": [
        "vocab = word_vec.vocab\n",
        "def sentence_vectorizer(sentence):\n",
        "    dic = {}\n",
        "    for i in range(len(sentence)):\n",
        "        sum_vec = np.zeros(word_vec.size)\n",
        "        sentence = [word for word in sentence if word in vocab]\n",
        "        if sentence:\n",
        "            for word in sentence:\n",
        "                word_vec = word_vec[word]\n",
        "                sum_vec = np.add(sum_vec, word_vec)\n",
        "            dic[i] = sum_vec/len(sentence)\n",
        "    return dic\n",
        "        "
      ],
      "execution_count": 0,
      "outputs": []
    },
    {
      "cell_type": "code",
      "metadata": {
        "id": "56C1hi5U3lKO",
        "colab_type": "code",
        "colab": {
          "base_uri": "https://localhost:8080/",
          "height": 1000
        },
        "outputId": "f4babd2d-4e25-4563-efbf-ac6480cea1df"
      },
      "source": [
        "# (list(word_vec.vocab)) सिद्धान्त\n",
        "word_vec['सिद्धान्त']"
      ],
      "execution_count": 11,
      "outputs": [
        {
          "output_type": "execute_result",
          "data": {
            "text/plain": [
              "array([ 6.43811226e-01,  6.74468935e-01, -8.62775326e-01,  5.12791499e-02,\n",
              "        6.24725521e-01,  1.08669996e+00,  4.81044918e-01, -2.40401318e-03,\n",
              "        2.75399745e-01,  6.48466468e-01,  3.91732693e-01,  3.86778235e-01,\n",
              "        8.15964490e-02, -2.57603616e-01, -1.51170958e-02,  1.59012586e-01,\n",
              "       -2.89887607e-01,  1.86497137e-01,  1.46785274e-01,  1.88305214e-01,\n",
              "       -2.78978765e-01, -4.00922149e-02,  7.23649412e-02,  5.29155970e-01,\n",
              "       -5.10532148e-02, -3.86992276e-01,  1.83717266e-01, -1.26679942e-01,\n",
              "        2.23998451e+00,  5.76221645e-01,  1.41955484e-02, -1.12675898e-01,\n",
              "        6.44444823e-01, -5.84899306e-01,  1.25091779e+00,  4.85780500e-02,\n",
              "       -2.78091520e-01,  1.88941911e-01, -3.19703877e-01, -5.57155430e-01,\n",
              "       -3.24242443e-01, -3.17869753e-01,  2.56732970e-01, -5.17914057e-01,\n",
              "        8.09298337e-01, -6.02780461e-01,  9.42629725e-02, -5.15716337e-02,\n",
              "       -3.31552289e-02, -5.29432297e-01, -1.10237706e+00, -1.80819064e-01,\n",
              "        9.82654989e-02,  3.33463430e-01,  5.81609249e-01, -3.71689409e-01,\n",
              "       -3.38270456e-01, -5.55290639e-01,  5.53710639e-01, -4.23195660e-01,\n",
              "       -5.60563743e-01,  8.67217422e-01,  7.87362933e-01,  5.08997142e-01,\n",
              "        9.09598947e-01,  2.22429812e-01,  9.10756066e-02,  2.16994226e-01,\n",
              "        4.08561885e-01, -8.38747203e-01, -3.60251755e-01, -2.26618111e-01,\n",
              "        9.57535505e-02,  5.20228446e-01,  7.13075399e-01,  5.53317189e-01,\n",
              "        7.57319689e-01, -7.75060803e-02, -8.14092636e-01, -1.57281369e-01,\n",
              "       -1.02313869e-01, -2.93996245e-01,  6.96799755e-01, -4.11612153e-01,\n",
              "       -3.25313240e-01, -3.68776381e-01,  1.55464590e-01,  1.57792971e-01,\n",
              "       -1.97020516e-01, -2.61784285e-01, -1.23551250e-01,  1.62059411e-01,\n",
              "       -3.22775722e-01, -9.23555017e-01,  5.40395856e-01,  3.05129319e-01,\n",
              "        1.32499993e-01,  3.87848943e-01, -2.56937593e-01,  4.78142321e-01,\n",
              "       -3.59715551e-01,  8.48385394e-02, -4.54452932e-01,  2.14891762e-01,\n",
              "       -2.43798092e-01,  1.26927607e-02, -5.60002267e-01, -4.69693273e-01,\n",
              "       -1.01174688e+00,  5.20161450e-01,  6.78509250e-02,  2.19354659e-01,\n",
              "       -3.01976085e-01, -3.19888264e-01,  3.07674617e-01,  8.23170483e-01,\n",
              "        5.93076944e-01,  3.51163894e-01,  2.35865116e-02, -1.43677473e-01,\n",
              "        1.72624383e-02,  7.96131194e-02,  7.04409778e-01,  1.15221687e-01,\n",
              "        4.91376340e-01, -5.46030998e-01, -6.55371726e-01, -2.00364023e-01,\n",
              "       -3.95575136e-01,  3.94437909e-01, -2.33796518e-02,  1.99330058e-02,\n",
              "       -2.15275567e-02,  4.02144611e-01,  4.83692475e-02, -2.00644717e-01,\n",
              "       -4.21705991e-01, -1.29505858e-01,  5.58072422e-03, -1.52376175e-01,\n",
              "       -9.37841713e-01, -2.50034481e-01, -4.79090326e-02, -1.97587326e-01,\n",
              "       -5.77108469e-04,  7.50700772e-01,  4.40053910e-01,  7.63426125e-02,\n",
              "        4.83440220e-01, -2.60685589e-02, -5.27210176e-01,  8.98990691e-01,\n",
              "        7.20888197e-01, -3.80229264e-01,  4.55293268e-01, -8.88328493e-01,\n",
              "        3.02680880e-01, -1.00439839e-01,  4.46892768e-01,  1.39864409e+00,\n",
              "       -8.86212051e-01, -1.20249264e-01, -4.60095793e-01,  8.04302096e-01,\n",
              "       -1.16474412e-01,  1.77796081e-01,  7.23623857e-02, -3.87691855e-01,\n",
              "       -3.59089822e-01, -4.39270169e-01, -3.10319662e-01, -5.71413338e-01,\n",
              "       -2.33546615e-01, -3.25403869e-01, -3.35233390e-01,  2.20041364e-01,\n",
              "       -6.25674605e-01, -2.77576774e-01,  5.93317389e-01, -5.77905588e-02,\n",
              "       -3.87503445e-01,  6.67808712e-01,  1.06705144e-01, -6.47304654e-01,\n",
              "        2.73450583e-01,  1.11700451e+00,  5.57707548e-02,  1.32299453e-01,\n",
              "       -4.02044684e-01,  2.23124206e-01,  2.55091071e-01, -4.33233619e-01,\n",
              "       -1.06945419e+00,  8.61843452e-02,  8.08568418e-01, -8.17543343e-02,\n",
              "        1.05395913e-01,  2.38612980e-01, -2.49513730e-01,  6.16652310e-01,\n",
              "        1.93693385e-01,  5.34292519e-01,  2.24498525e-01,  3.29272449e-01,\n",
              "        4.58653539e-01,  5.07263958e-01,  9.14831638e-01,  3.08977310e-02,\n",
              "        9.13361758e-02,  2.66716272e-01, -7.95254469e-01,  5.78893661e-01,\n",
              "       -4.60105300e-01,  4.98682857e-01,  3.27932805e-01, -9.42971766e-01,\n",
              "        1.20544747e-01,  1.11241579e-01,  6.63113892e-02,  5.61226234e-02,\n",
              "        6.92259192e-01,  4.21175599e-01,  3.23150814e-01, -6.32478058e-01,\n",
              "        3.85559723e-02,  2.18864352e-01, -5.52450679e-02,  5.35751343e-01,\n",
              "        7.84706652e-01,  6.44369781e-01,  1.48617044e-01,  4.84397560e-01,\n",
              "       -3.29966813e-01, -1.92170031e-02,  1.12030756e+00,  3.84215534e-01,\n",
              "        5.67931950e-01,  5.99977851e-01,  2.56637126e-01, -2.44374610e-02,\n",
              "        3.95186871e-01, -7.71652937e-01,  1.27557412e-01,  3.17971677e-01,\n",
              "        8.78772661e-02, -2.06497371e-01,  4.08943594e-01, -2.36669213e-01,\n",
              "        8.13673198e-01, -9.32115555e-01,  2.26896212e-01, -7.27340043e-01,\n",
              "       -2.89940059e-01,  8.47467303e-01, -3.41661125e-01,  1.22142509e-01,\n",
              "       -5.30740656e-02,  2.19393820e-01, -4.28747565e-01, -2.54166484e-01,\n",
              "       -6.86749220e-01, -2.32646856e-02,  5.09386003e-01,  3.12523454e-01,\n",
              "        3.88230383e-01, -5.70002854e-01,  3.82801116e-01,  5.03838539e-01,\n",
              "        9.82892454e-01, -4.48731422e-01,  4.45055097e-01,  2.04091012e-01,\n",
              "       -7.77844429e-01, -1.65023848e-01, -6.15694039e-02,  1.56571865e-02,\n",
              "        7.47300327e-01,  4.98788089e-01,  5.42901009e-02,  7.59373128e-01,\n",
              "       -9.82582718e-02,  6.38909996e-01,  3.92293572e-01, -9.23648238e-01,\n",
              "       -2.77698129e-01, -5.34567058e-01, -1.17201313e-01,  6.45542204e-01,\n",
              "       -9.69536364e-01,  6.44749403e-01,  1.37256801e-01, -9.86541569e-01,\n",
              "        1.15695727e+00, -9.08881128e-02, -1.11503825e-01, -2.13717639e-01,\n",
              "        2.07693487e-01, -1.67873010e-01,  6.10738769e-02,  1.14699030e+00,\n",
              "        3.76229733e-01,  1.99932486e-01,  1.98429942e-01,  5.81527233e-01,\n",
              "        4.77949083e-01, -8.72299790e-01, -6.25895038e-02,  1.68066174e-01,\n",
              "       -4.59883749e-01, -2.81775985e-02,  3.62162083e-01, -6.83898747e-01,\n",
              "        3.82810563e-01, -7.20743775e-01,  7.22418964e-01,  6.07082248e-01,\n",
              "        3.64199489e-01, -2.21453071e-01,  2.98510175e-02, -8.05456936e-01,\n",
              "       -3.80100876e-01,  9.55150351e-02, -1.20423205e-01, -6.94051385e-01,\n",
              "        5.59038937e-01, -7.01174438e-01,  9.33871865e-01, -5.27922958e-02,\n",
              "        8.20810199e-02, -4.38105434e-01, -2.61556655e-01,  1.72538698e-01,\n",
              "        1.21437109e+00, -1.05516836e-01,  3.64344537e-01, -8.11473653e-02,\n",
              "        4.38416183e-01,  4.04920250e-01, -4.68359083e-01, -5.96885383e-02,\n",
              "        4.63475881e-04, -3.17042977e-01,  2.49926418e-01, -1.55618057e-01,\n",
              "       -6.66386485e-01, -1.10073641e-01,  6.52244210e-01,  5.41316211e-01,\n",
              "        4.14176166e-01,  1.40090957e-01,  7.08339512e-02,  1.08004916e+00,\n",
              "        1.35379806e-01,  3.42253357e-01, -5.39917648e-01, -3.22796762e-01,\n",
              "        9.44827870e-02,  1.36051759e-01, -3.71960104e-01, -1.06166132e-01,\n",
              "        8.18642199e-01,  4.55005392e-02, -5.57143688e-01,  5.88861048e-01,\n",
              "       -3.42152119e-01,  1.73411772e-01,  1.19639504e+00, -1.10855007e+00,\n",
              "       -1.91798627e-01,  9.58419815e-02,  4.66924727e-01,  5.34478903e-01,\n",
              "       -1.14790291e-01, -7.51853287e-01,  9.42810774e-01, -7.32832626e-02,\n",
              "        1.53237760e-01, -3.57922435e-01, -4.77409452e-01, -6.67214990e-02,\n",
              "       -1.21751167e-01,  7.74320781e-01, -3.99733722e-01, -6.94592774e-01,\n",
              "        6.21944368e-01,  3.07247341e-02, -6.38008058e-01,  1.00033782e-01,\n",
              "        6.65276349e-01, -8.66380155e-01, -4.12281305e-02,  7.62826085e-01,\n",
              "       -3.13844472e-01,  1.70548633e-01, -3.26720238e-01,  4.68720615e-01,\n",
              "        1.35741562e-01,  2.06575990e-01, -2.49336532e-04, -2.21686829e-02],\n",
              "      dtype=float32)"
            ]
          },
          "metadata": {
            "tags": []
          },
          "execution_count": 11
        }
      ]
    },
    {
      "cell_type": "code",
      "metadata": {
        "id": "jNZ7qcvA5cfB",
        "colab_type": "code",
        "colab": {}
      },
      "source": [
        "#using TFIDF"
      ],
      "execution_count": 0,
      "outputs": []
    },
    {
      "cell_type": "code",
      "metadata": {
        "id": "_ccVDoJc5sIZ",
        "colab_type": "code",
        "colab": {}
      },
      "source": [
        "from sklearn.feature_extraction.text import TfidfVectorizer\n",
        "def generate_centroif_tfidf(sentence):\n",
        "    tf = TfidfVectorizer()\n",
        "    tfidf = tf.fit_transform(sentence).toarray().sum(0)\n",
        "    tfidf = np.divide(tfidf, tfidf.max())\n",
        "    words = tf.get_feature_names()\n",
        "    similar_term = []\n",
        "    for i in range(len(tfidf)):\n",
        "        if word[i] in vocab:\n",
        "            if tfidf[i] >= 0.2:\n",
        "                similar_term.append(words[i])\n",
        "    res = [word_vec(term) for term in similar_word]\n",
        "    return sum(res)/len(res)"
      ],
      "execution_count": 0,
      "outputs": []
    },
    {
      "cell_type": "code",
      "metadata": {
        "id": "yH6Y_F788NGd",
        "colab_type": "code",
        "colab": {
          "base_uri": "https://localhost:8080/",
          "height": 54
        },
        "outputId": "1b1b361c-364c-4e3e-e775-a3a5d4092607"
      },
      "source": [
        "import string\n",
        "text = \"दैलेख जिल्ला नेपालको मध्य-पश्चिमाञ्चल विकास क्षेत्रको भेरी अञ्चलको एक जिल्ला हो। यो जिल्लाको सदरमुकाम नारायण नगरपालिका हो। यो जिल्ला भेरी अञ्चलको सबैभन्दा सानो जिल्ला हो। दैलेख जिल्ला मध्य पश्चिमाञ्चल विकास क्षेत्र अन्तर्गत पूर्वमा जाजरकोट उत्तरमा कालिकोट पश्चिममा अछाम र दक्षिणमा सुर्खेत जिल्ल्लाका वीचमा रहेको एक रमणीय मध्य पहाडी जिल्ला हो । यो जिल्लाको सदरमुकाम दैलेख बजार काठमाडौंबाट करिब ६५० किलोमिटर पश्चिम, कोहलपुरबाट १५० किलोमिटर र सुर्खेत उपत्यकाबाट ६५ किलोमिटर उत्तरमा रहेको छ । ऐतिहासिक धरोहरका रूपमा रहेको यस पहाडी जिल्लाको उत्तर सिरमा मनमोहक महावुलेक दक्षिण र पश्चिममा कर्णाली नदी र जिल्ला भित्र लोहोरे छामघाट खोला शीरस्थान, नाभिस्थान, पादुका, कोटीला धुलेश्वर जस्ता पानीमाथि दीप ज्वाला वल्ने पाँचकोशी तीर्थस्थलका नामले प्रसिद्ध रहेकाका क्षेत्रहरू यहाँ छन् ।\"\n",
        "abc = text.translate(str.maketrans('', '', string.punctuation))\n",
        "abc"
      ],
      "execution_count": 18,
      "outputs": [
        {
          "output_type": "execute_result",
          "data": {
            "text/plain": [
              "'दैलेख जिल्ला नेपालको मध्यपश्चिमाञ्चल विकास क्षेत्रको भेरी अञ्चलको एक जिल्ला हो। यो जिल्लाको सदरमुकाम नारायण नगरपालिका हो। यो जिल्ला भेरी अञ्चलको सबैभन्दा सानो जिल्ला हो। दैलेख जिल्ला मध्य पश्चिमाञ्चल विकास क्षेत्र अन्तर्गत पूर्वमा जाजरकोट उत्तरमा कालिकोट पश्चिममा अछाम र दक्षिणमा सुर्खेत जिल्ल्लाका वीचमा रहेको एक रमणीय मध्य पहाडी जिल्ला हो । यो जिल्लाको सदरमुकाम दैलेख बजार काठमाडौंबाट करिब ६५० किलोमिटर पश्चिम कोहलपुरबाट १५० किलोमिटर र सुर्खेत उपत्यकाबाट ६५ किलोमिटर उत्तरमा रहेको छ । ऐतिहासिक धरोहरका रूपमा रहेको यस पहाडी जिल्लाको उत्तर सिरमा मनमोहक महावुलेक दक्षिण र पश्चिममा कर्णाली नदी र जिल्ला भित्र लोहोरे छामघाट खोला शीरस्थान नाभिस्थान पादुका कोटीला धुलेश्वर जस्ता पानीमाथि दीप ज्वाला वल्ने पाँचकोशी तीर्थस्थलका नामले प्रसिद्ध रहेकाका क्षेत्रहरू यहाँ छन् ।'"
            ]
          },
          "metadata": {
            "tags": []
          },
          "execution_count": 18
        }
      ]
    },
    {
      "cell_type": "code",
      "metadata": {
        "id": "v7SSLXLcBjBp",
        "colab_type": "code",
        "colab": {}
      },
      "source": [
        ""
      ],
      "execution_count": 0,
      "outputs": []
    }
  ]
}