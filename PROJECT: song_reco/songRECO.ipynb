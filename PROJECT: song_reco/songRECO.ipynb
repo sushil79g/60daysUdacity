{
  "nbformat": 4,
  "nbformat_minor": 0,
  "metadata": {
    "accelerator": "GPU",
    "colab": {
      "name": "songRECO.ipynb",
      "version": "0.3.2",
      "provenance": [],
      "collapsed_sections": [
        "qwET6N7kAMwb",
        "WtsPqZsBAET9",
        "txJs-iAX_ugf",
        "F1YlRFtH_X0p"
      ],
      "include_colab_link": true
    },
    "kernelspec": {
      "name": "python3",
      "display_name": "Python 3"
    },
    "language_info": {
      "codemirror_mode": {
        "name": "ipython",
        "version": 3
      },
      "file_extension": ".py",
      "mimetype": "text/x-python",
      "name": "python",
      "nbconvert_exporter": "python",
      "pygments_lexer": "ipython3",
      "version": "3.6.7"
    }
  },
  "cells": [
    {
      "cell_type": "markdown",
      "metadata": {
        "id": "view-in-github",
        "colab_type": "text"
      },
      "source": [
        "<a href=\"https://colab.research.google.com/github/sushil79g/60daysUdacity/blob/master/PROJECT%3A%20song_reco/songRECO.ipynb\" target=\"_parent\"><img src=\"https://colab.research.google.com/assets/colab-badge.svg\" alt=\"Open In Colab\"/></a>"
      ]
    },
    {
      "cell_type": "markdown",
      "metadata": {
        "id": "qwET6N7kAMwb",
        "colab_type": "text"
      },
      "source": [
        "### Data visualization and pre-processing"
      ]
    },
    {
      "cell_type": "code",
      "metadata": {
        "colab_type": "code",
        "id": "ddaD4pfD3F3X",
        "colab": {}
      },
      "source": [
        "import re\n",
        "import string\n",
        "import seaborn as sns\n",
        "import matplotlib.pyplot as plt"
      ],
      "execution_count": 0,
      "outputs": []
    },
    {
      "cell_type": "code",
      "metadata": {
        "colab_type": "code",
        "id": "qG5_qZ-e3R2c",
        "outputId": "cf528a0b-0164-4fc2-ed0d-98518e673ff3",
        "colab": {
          "base_uri": "https://localhost:8080/",
          "height": 122
        }
      },
      "source": [
        "from google.colab import drive\n",
        "drive.mount('/content/drive')"
      ],
      "execution_count": 2,
      "outputs": [
        {
          "output_type": "stream",
          "text": [
            "Go to this URL in a browser: https://accounts.google.com/o/oauth2/auth?client_id=947318989803-6bn6qk8qdgf4n4g3pfee6491hc0brc4i.apps.googleusercontent.com&redirect_uri=urn%3Aietf%3Awg%3Aoauth%3A2.0%3Aoob&scope=email%20https%3A%2F%2Fwww.googleapis.com%2Fauth%2Fdocs.test%20https%3A%2F%2Fwww.googleapis.com%2Fauth%2Fdrive%20https%3A%2F%2Fwww.googleapis.com%2Fauth%2Fdrive.photos.readonly%20https%3A%2F%2Fwww.googleapis.com%2Fauth%2Fpeopleapi.readonly&response_type=code\n",
            "\n",
            "Enter your authorization code:\n",
            "··········\n",
            "Mounted at /content/drive\n"
          ],
          "name": "stdout"
        }
      ]
    },
    {
      "cell_type": "code",
      "metadata": {
        "colab_type": "code",
        "id": "77_2F8q-3i5k",
        "colab": {}
      },
      "source": [
        "data_folder = 'drive/My Drive/dataset/'"
      ],
      "execution_count": 0,
      "outputs": []
    },
    {
      "cell_type": "code",
      "metadata": {
        "colab_type": "code",
        "id": "pq5a6T_V3n84",
        "colab": {}
      },
      "source": [
        "import pandas as pd\n",
        "file = pd.read_csv(data_folder + 'lyrics.csv')\n",
        "# file = pd.read_csv('lyrics.csv')"
      ],
      "execution_count": 0,
      "outputs": []
    },
    {
      "cell_type": "code",
      "metadata": {
        "colab_type": "code",
        "id": "ZtThLfKg3z2W",
        "outputId": "41e4bc1e-636b-4472-ae16-395ce0cf6b73",
        "colab": {
          "base_uri": "https://localhost:8080/",
          "height": 204
        }
      },
      "source": [
        "file.head(5)"
      ],
      "execution_count": 0,
      "outputs": [
        {
          "output_type": "execute_result",
          "data": {
            "text/html": [
              "<div>\n",
              "<style scoped>\n",
              "    .dataframe tbody tr th:only-of-type {\n",
              "        vertical-align: middle;\n",
              "    }\n",
              "\n",
              "    .dataframe tbody tr th {\n",
              "        vertical-align: top;\n",
              "    }\n",
              "\n",
              "    .dataframe thead th {\n",
              "        text-align: right;\n",
              "    }\n",
              "</style>\n",
              "<table border=\"1\" class=\"dataframe\">\n",
              "  <thead>\n",
              "    <tr style=\"text-align: right;\">\n",
              "      <th></th>\n",
              "      <th>index</th>\n",
              "      <th>song</th>\n",
              "      <th>year</th>\n",
              "      <th>artist</th>\n",
              "      <th>genre</th>\n",
              "      <th>lyrics</th>\n",
              "    </tr>\n",
              "  </thead>\n",
              "  <tbody>\n",
              "    <tr>\n",
              "      <th>0</th>\n",
              "      <td>0</td>\n",
              "      <td>ego-remix</td>\n",
              "      <td>2009</td>\n",
              "      <td>beyonce-knowles</td>\n",
              "      <td>Pop</td>\n",
              "      <td>Oh baby, how you doing?\\nYou know I'm gonna cu...</td>\n",
              "    </tr>\n",
              "    <tr>\n",
              "      <th>1</th>\n",
              "      <td>1</td>\n",
              "      <td>then-tell-me</td>\n",
              "      <td>2009</td>\n",
              "      <td>beyonce-knowles</td>\n",
              "      <td>Pop</td>\n",
              "      <td>playin' everything so easy,\\nit's like you see...</td>\n",
              "    </tr>\n",
              "    <tr>\n",
              "      <th>2</th>\n",
              "      <td>2</td>\n",
              "      <td>honesty</td>\n",
              "      <td>2009</td>\n",
              "      <td>beyonce-knowles</td>\n",
              "      <td>Pop</td>\n",
              "      <td>If you search\\nFor tenderness\\nIt isn't hard t...</td>\n",
              "    </tr>\n",
              "    <tr>\n",
              "      <th>3</th>\n",
              "      <td>3</td>\n",
              "      <td>you-are-my-rock</td>\n",
              "      <td>2009</td>\n",
              "      <td>beyonce-knowles</td>\n",
              "      <td>Pop</td>\n",
              "      <td>Oh oh oh I, oh oh oh I\\n[Verse 1:]\\nIf I wrote...</td>\n",
              "    </tr>\n",
              "    <tr>\n",
              "      <th>4</th>\n",
              "      <td>4</td>\n",
              "      <td>black-culture</td>\n",
              "      <td>2009</td>\n",
              "      <td>beyonce-knowles</td>\n",
              "      <td>Pop</td>\n",
              "      <td>Party the people, the people the party it's po...</td>\n",
              "    </tr>\n",
              "  </tbody>\n",
              "</table>\n",
              "</div>"
            ],
            "text/plain": [
              "   index  ...                                             lyrics\n",
              "0      0  ...  Oh baby, how you doing?\\nYou know I'm gonna cu...\n",
              "1      1  ...  playin' everything so easy,\\nit's like you see...\n",
              "2      2  ...  If you search\\nFor tenderness\\nIt isn't hard t...\n",
              "3      3  ...  Oh oh oh I, oh oh oh I\\n[Verse 1:]\\nIf I wrote...\n",
              "4      4  ...  Party the people, the people the party it's po...\n",
              "\n",
              "[5 rows x 6 columns]"
            ]
          },
          "metadata": {
            "tags": []
          },
          "execution_count": 5
        }
      ]
    },
    {
      "cell_type": "code",
      "metadata": {
        "colab_type": "code",
        "id": "vVG3oUrn39bN",
        "outputId": "392ad507-30f2-4a34-816a-c2b1769d4be1",
        "colab": {
          "base_uri": "https://localhost:8080/",
          "height": 395
        }
      },
      "source": [
        "# sns.barplot(x='genre',data=file)\n",
        "is_dup = file['genre'].value_counts()\n",
        "plt.figure(figsize=(12,6))\n",
        "sns.barplot(is_dup.index, is_dup.values, alpha=0.8)"
      ],
      "execution_count": 0,
      "outputs": [
        {
          "output_type": "execute_result",
          "data": {
            "text/plain": [
              "<matplotlib.axes._subplots.AxesSubplot at 0x7f7f05c5d5c0>"
            ]
          },
          "metadata": {
            "tags": []
          },
          "execution_count": 19
        },
        {
          "output_type": "display_data",
          "data": {
            "image/png": "[encoded data removed]",
            "text/plain": [
              "<Figure size 864x432 with 1 Axes>"
            ]
          },
          "metadata": {
            "tags": []
          }
        }
      ]
    },
    {
      "cell_type": "code",
      "metadata": {
        "colab_type": "code",
        "id": "QxiTpvkR4DS6",
        "colab": {}
      },
      "source": [
        "def datapreprocess(x):\n",
        "    small_case = x.lower()\n",
        "    remove_punct = small_case.translate(str.maketrans('', '', string.punctuation))\n",
        "    remove_newline = re.sub(r'\\n',r' ',remove_punct)\n",
        "#     remove_newline = remove_punct.replace('\\n',' ')\n",
        "    return remove_newline"
      ],
      "execution_count": 0,
      "outputs": []
    },
    {
      "cell_type": "code",
      "metadata": {
        "id": "oICGeVNl3eaQ",
        "colab_type": "code",
        "colab": {}
      },
      "source": [
        "# file['process_lyrics'] = file['lyrics'].apply(datapreprocess)\n",
        "file.dropna(axis=0,inplace=True)"
      ],
      "execution_count": 0,
      "outputs": []
    },
    {
      "cell_type": "code",
      "metadata": {
        "id": "iWcM86Nn3eaV",
        "colab_type": "code",
        "colab": {}
      },
      "source": [
        "file['process_lyrics'] = file['lyrics'].map(datapreprocess)"
      ],
      "execution_count": 0,
      "outputs": []
    },
    {
      "cell_type": "code",
      "metadata": {
        "colab_type": "code",
        "id": "7MRwysZB7Ray",
        "outputId": "508c91b6-1b18-4b49-a033-29b2a8627dde",
        "colab": {
          "base_uri": "https://localhost:8080/",
          "height": 289
        }
      },
      "source": [
        "file.head()"
      ],
      "execution_count": 0,
      "outputs": [
        {
          "output_type": "execute_result",
          "data": {
            "text/html": [
              "<div>\n",
              "<style scoped>\n",
              "    .dataframe tbody tr th:only-of-type {\n",
              "        vertical-align: middle;\n",
              "    }\n",
              "\n",
              "    .dataframe tbody tr th {\n",
              "        vertical-align: top;\n",
              "    }\n",
              "\n",
              "    .dataframe thead th {\n",
              "        text-align: right;\n",
              "    }\n",
              "</style>\n",
              "<table border=\"1\" class=\"dataframe\">\n",
              "  <thead>\n",
              "    <tr style=\"text-align: right;\">\n",
              "      <th></th>\n",
              "      <th>index</th>\n",
              "      <th>song</th>\n",
              "      <th>year</th>\n",
              "      <th>artist</th>\n",
              "      <th>genre</th>\n",
              "      <th>lyrics</th>\n",
              "      <th>process_lyrics</th>\n",
              "    </tr>\n",
              "  </thead>\n",
              "  <tbody>\n",
              "    <tr>\n",
              "      <th>0</th>\n",
              "      <td>0</td>\n",
              "      <td>ego-remix</td>\n",
              "      <td>2009</td>\n",
              "      <td>beyonce-knowles</td>\n",
              "      <td>Pop</td>\n",
              "      <td>Oh baby, how you doing?\\nYou know I'm gonna cu...</td>\n",
              "      <td>oh baby how you doing you know im gonna cut ri...</td>\n",
              "    </tr>\n",
              "    <tr>\n",
              "      <th>1</th>\n",
              "      <td>1</td>\n",
              "      <td>then-tell-me</td>\n",
              "      <td>2009</td>\n",
              "      <td>beyonce-knowles</td>\n",
              "      <td>Pop</td>\n",
              "      <td>playin' everything so easy,\\nit's like you see...</td>\n",
              "      <td>playin everything so easy its like you seem so...</td>\n",
              "    </tr>\n",
              "    <tr>\n",
              "      <th>2</th>\n",
              "      <td>2</td>\n",
              "      <td>honesty</td>\n",
              "      <td>2009</td>\n",
              "      <td>beyonce-knowles</td>\n",
              "      <td>Pop</td>\n",
              "      <td>If you search\\nFor tenderness\\nIt isn't hard t...</td>\n",
              "      <td>if you search for tenderness it isnt hard to f...</td>\n",
              "    </tr>\n",
              "    <tr>\n",
              "      <th>3</th>\n",
              "      <td>3</td>\n",
              "      <td>you-are-my-rock</td>\n",
              "      <td>2009</td>\n",
              "      <td>beyonce-knowles</td>\n",
              "      <td>Pop</td>\n",
              "      <td>Oh oh oh I, oh oh oh I\\n[Verse 1:]\\nIf I wrote...</td>\n",
              "      <td>oh oh oh i oh oh oh i verse 1 if i wrote a boo...</td>\n",
              "    </tr>\n",
              "    <tr>\n",
              "      <th>4</th>\n",
              "      <td>4</td>\n",
              "      <td>black-culture</td>\n",
              "      <td>2009</td>\n",
              "      <td>beyonce-knowles</td>\n",
              "      <td>Pop</td>\n",
              "      <td>Party the people, the people the party it's po...</td>\n",
              "      <td>party the people the people the party its popp...</td>\n",
              "    </tr>\n",
              "  </tbody>\n",
              "</table>\n",
              "</div>"
            ],
            "text/plain": [
              "   index  ...                                     process_lyrics\n",
              "0      0  ...  oh baby how you doing you know im gonna cut ri...\n",
              "1      1  ...  playin everything so easy its like you seem so...\n",
              "2      2  ...  if you search for tenderness it isnt hard to f...\n",
              "3      3  ...  oh oh oh i oh oh oh i verse 1 if i wrote a boo...\n",
              "4      4  ...  party the people the people the party its popp...\n",
              "\n",
              "[5 rows x 7 columns]"
            ]
          },
          "metadata": {
            "tags": []
          },
          "execution_count": 23
        }
      ]
    },
    {
      "cell_type": "code",
      "metadata": {
        "id": "A80gpv8G3eal",
        "colab_type": "code",
        "outputId": "23acff99-b16a-4a37-8038-bb56422478bf",
        "colab": {
          "base_uri": "https://localhost:8080/",
          "height": 289
        }
      },
      "source": [
        "file.head()"
      ],
      "execution_count": 0,
      "outputs": [
        {
          "output_type": "execute_result",
          "data": {
            "text/html": [
              "<div>\n",
              "<style scoped>\n",
              "    .dataframe tbody tr th:only-of-type {\n",
              "        vertical-align: middle;\n",
              "    }\n",
              "\n",
              "    .dataframe tbody tr th {\n",
              "        vertical-align: top;\n",
              "    }\n",
              "\n",
              "    .dataframe thead th {\n",
              "        text-align: right;\n",
              "    }\n",
              "</style>\n",
              "<table border=\"1\" class=\"dataframe\">\n",
              "  <thead>\n",
              "    <tr style=\"text-align: right;\">\n",
              "      <th></th>\n",
              "      <th>index</th>\n",
              "      <th>song</th>\n",
              "      <th>year</th>\n",
              "      <th>artist</th>\n",
              "      <th>genre</th>\n",
              "      <th>lyrics</th>\n",
              "      <th>process_lyrics</th>\n",
              "      <th>sentiment</th>\n",
              "    </tr>\n",
              "  </thead>\n",
              "  <tbody>\n",
              "    <tr>\n",
              "      <th>0</th>\n",
              "      <td>0</td>\n",
              "      <td>ego-remix</td>\n",
              "      <td>2009</td>\n",
              "      <td>beyonce-knowles</td>\n",
              "      <td>Pop</td>\n",
              "      <td>Oh baby, how you doing?\\nYou know I'm gonna cu...</td>\n",
              "      <td>oh baby how you doing you know im gonna cut ri...</td>\n",
              "      <td>0.148268</td>\n",
              "    </tr>\n",
              "    <tr>\n",
              "      <th>1</th>\n",
              "      <td>1</td>\n",
              "      <td>then-tell-me</td>\n",
              "      <td>2009</td>\n",
              "      <td>beyonce-knowles</td>\n",
              "      <td>Pop</td>\n",
              "      <td>playin' everything so easy,\\nit's like you see...</td>\n",
              "      <td>playin everything so easy its like you seem so...</td>\n",
              "      <td>0.068365</td>\n",
              "    </tr>\n",
              "    <tr>\n",
              "      <th>2</th>\n",
              "      <td>2</td>\n",
              "      <td>honesty</td>\n",
              "      <td>2009</td>\n",
              "      <td>beyonce-knowles</td>\n",
              "      <td>Pop</td>\n",
              "      <td>If you search\\nFor tenderness\\nIt isn't hard t...</td>\n",
              "      <td>if you search for tenderness it isnt hard to f...</td>\n",
              "      <td>0.004720</td>\n",
              "    </tr>\n",
              "    <tr>\n",
              "      <th>3</th>\n",
              "      <td>3</td>\n",
              "      <td>you-are-my-rock</td>\n",
              "      <td>2009</td>\n",
              "      <td>beyonce-knowles</td>\n",
              "      <td>Pop</td>\n",
              "      <td>Oh oh oh I, oh oh oh I\\n[Verse 1:]\\nIf I wrote...</td>\n",
              "      <td>oh oh oh i oh oh oh i verse 1 if i wrote a boo...</td>\n",
              "      <td>0.390422</td>\n",
              "    </tr>\n",
              "    <tr>\n",
              "      <th>4</th>\n",
              "      <td>4</td>\n",
              "      <td>black-culture</td>\n",
              "      <td>2009</td>\n",
              "      <td>beyonce-knowles</td>\n",
              "      <td>Pop</td>\n",
              "      <td>Party the people, the people the party it's po...</td>\n",
              "      <td>party the people the people the party its popp...</td>\n",
              "      <td>-0.170833</td>\n",
              "    </tr>\n",
              "  </tbody>\n",
              "</table>\n",
              "</div>"
            ],
            "text/plain": [
              "   index  ... sentiment\n",
              "0      0  ...  0.148268\n",
              "1      1  ...  0.068365\n",
              "2      2  ...  0.004720\n",
              "3      3  ...  0.390422\n",
              "4      4  ... -0.170833\n",
              "\n",
              "[5 rows x 8 columns]"
            ]
          },
          "metadata": {
            "tags": []
          },
          "execution_count": 26
        }
      ]
    },
    {
      "cell_type": "markdown",
      "metadata": {
        "id": "WtsPqZsBAET9",
        "colab_type": "text"
      },
      "source": [
        "### Creating a word embedding"
      ]
    },
    {
      "cell_type": "code",
      "metadata": {
        "id": "EiwWJ7Eb0vDA",
        "colab_type": "code",
        "colab": {}
      },
      "source": [
        "### OKAY! THIS PROCESS IS MEMORY INSTENSIVE :D \n",
        "\n",
        "# import wget\n",
        "# import gzip\n",
        "# from gensim.models.keyedvectors import KeyedVectors\n",
        "\n",
        "# !wget https://dl.fbaipublicfiles.com/fasttext/vectors-crawl/cc.en.300.vec.gz\n",
        "# # filename = wget.download(url)\n",
        "\n",
        "# # f = gzip.open(wget.download(url), 'rb')\n",
        "# # model = KeyedVectors.load_word2vec_format(f.read(), binary=False)\n",
        "\n",
        "# # filename = 'pickle_model.pkl'\n",
        "\n",
        "# # with open(filename, 'rb') as file:  \n",
        "# #     model = pickle.load(file)\n",
        "\n",
        "# print('model loaded')"
      ],
      "execution_count": 0,
      "outputs": []
    },
    {
      "cell_type": "code",
      "metadata": {
        "id": "4A__eau5vqZP",
        "colab_type": "code",
        "colab": {}
      },
      "source": [
        "!pip install contractions\n",
        "!pip install textsearch\n",
        "!pip install wget\n",
        "!pip install gzip"
      ],
      "execution_count": 0,
      "outputs": []
    },
    {
      "cell_type": "code",
      "metadata": {
        "id": "xVUFGqBz2ZLg",
        "colab_type": "code",
        "outputId": "7e63682b-7deb-4b6a-c04c-5651f7c99764",
        "colab": {
          "base_uri": "https://localhost:8080/",
          "height": 224
        }
      },
      "source": [
        "#download word embedding from facebook ..btw thanks fb, finally something good from facebook.\n",
        "!wget https://dl.fbaipublicfiles.com/fasttext/vectors-crawl/cc.en.300.vec.gz"
      ],
      "execution_count": 0,
      "outputs": [
        {
          "output_type": "stream",
          "text": [
            "--2019-07-19 10:49:29--  https://dl.fbaipublicfiles.com/fasttext/vectors-crawl/cc.en.300.vec.gz\n",
            "Resolving dl.fbaipublicfiles.com (dl.fbaipublicfiles.com)... 104.20.22.166, 104.20.6.166, 2606:4700:10::6814:6a6, ...\n",
            "Connecting to dl.fbaipublicfiles.com (dl.fbaipublicfiles.com)|104.20.22.166|:443... connected.\n",
            "HTTP request sent, awaiting response... 200 OK\n",
            "Length: 1325960915 (1.2G) [binary/octet-stream]\n",
            "Saving to: ‘cc.en.300.vec.gz.2’\n",
            "\n",
            "cc.en.300.vec.gz.2  100%[===================>]   1.23G  30.1MB/s    in 43s     \n",
            "\n",
            "2019-07-19 10:50:13 (29.2 MB/s) - ‘cc.en.300.vec.gz.2’ saved [1325960915/1325960915]\n",
            "\n"
          ],
          "name": "stdout"
        }
      ]
    },
    {
      "cell_type": "code",
      "metadata": {
        "id": "EvuZ3iDs2iN5",
        "colab_type": "code",
        "colab": {}
      },
      "source": [
        "#Extracting the vectorize file so that we can reconstruct it to keyedvectors\n",
        "!gunzip -k cc.en.300.vec.gz"
      ],
      "execution_count": 0,
      "outputs": []
    },
    {
      "cell_type": "code",
      "metadata": {
        "id": "w4ylsYYc2jGN",
        "colab_type": "code",
        "colab": {}
      },
      "source": [
        "from gensim.models.keyedvectors import KeyedVectors\n",
        "model = KeyedVectors.load_word2vec_format('cc.en.300.vec', binary=False)\n",
        "model.save_word2vec_format('wiki.el.txt', binary=False)"
      ],
      "execution_count": 0,
      "outputs": []
    },
    {
      "cell_type": "markdown",
      "metadata": {
        "id": "txJs-iAX_ugf",
        "colab_type": "text"
      },
      "source": [
        "### Feature extractions"
      ]
    },
    {
      "cell_type": "code",
      "metadata": {
        "id": "wkjSoaex3eae",
        "colab_type": "code",
        "colab": {}
      },
      "source": [
        "from textblob import TextBlob"
      ],
      "execution_count": 0,
      "outputs": []
    },
    {
      "cell_type": "code",
      "metadata": {
        "id": "FaNz2oPk3eah",
        "colab_type": "code",
        "colab": {}
      },
      "source": [
        "def sentiment(x):\n",
        "    blob = TextBlob(x)\n",
        "    return blob.sentiment.polarity\n",
        "\n",
        "file['sentiment'] = file['process_lyrics'].map(sentiment)"
      ],
      "execution_count": 0,
      "outputs": []
    },
    {
      "cell_type": "code",
      "metadata": {
        "id": "0EC_P-tXuTQs",
        "colab_type": "code",
        "outputId": "0da6aa43-0931-4d69-e158-d36de00f1953",
        "colab": {
          "base_uri": "https://localhost:8080/",
          "height": 238
        }
      },
      "source": [
        "import os\n",
        "\n",
        "\n",
        "import re\n",
        "import nltk\n",
        "import pickle\n",
        "import contractions\n",
        "from nltk import pos_tag\n",
        "from nltk.corpus import stopwords\n",
        "from nltk.tokenize import word_tokenize\n",
        "from nltk.stem  import WordNetLemmatizer\n",
        "  \n",
        "#To classify lyrics to different class given in list_group, if the lyrics doesnt belong to following class it will be classified to 'other' class.\n",
        "list_group = ['romance','inspirational','devotion','wedding','sad','dance','retro','love','relaxing']\n",
        "\n",
        "os.environ[\"TF_CPP_MIN_LOG_LEVEL\"]=\"3\"\n",
        "\n",
        "nltk.download('stopwords')\n",
        "nltk.download('punkt')\n",
        "nltk.download('averaged_perceptron_tagger')\n",
        "nltk.download('wordnet')\n",
        "nltk.download('brown')\n",
        "\n",
        "\n"
      ],
      "execution_count": 0,
      "outputs": [
        {
          "output_type": "stream",
          "text": [
            "[nltk_data] Downloading package stopwords to /root/nltk_data...\n",
            "[nltk_data]   Package stopwords is already up-to-date!\n",
            "[nltk_data] Downloading package punkt to /root/nltk_data...\n",
            "[nltk_data]   Package punkt is already up-to-date!\n",
            "[nltk_data] Downloading package averaged_perceptron_tagger to\n",
            "[nltk_data]     /root/nltk_data...\n",
            "[nltk_data]   Package averaged_perceptron_tagger is already up-to-\n",
            "[nltk_data]       date!\n",
            "[nltk_data] Downloading package wordnet to /root/nltk_data...\n",
            "[nltk_data]   Package wordnet is already up-to-date!\n",
            "[nltk_data] Downloading package brown to /root/nltk_data...\n",
            "[nltk_data]   Package brown is already up-to-date!\n"
          ],
          "name": "stdout"
        },
        {
          "output_type": "execute_result",
          "data": {
            "text/plain": [
              "True"
            ]
          },
          "metadata": {
            "tags": []
          },
          "execution_count": 8
        }
      ]
    },
    {
      "cell_type": "code",
      "metadata": {
        "id": "xcc2SaIc3ear",
        "colab_type": "code",
        "colab": {}
      },
      "source": [
        "lemmatizer = WordNetLemmatizer()\n",
        "stop_word = list(set(stopwords.words('english')))\n",
        "stop_word = list(filter(lambda x : x!=str('not'),stop_word))\n",
        "\n",
        "\n",
        "def noun_phrase(token):\n",
        "  '''To extract important grammatical token from text'''\n",
        "\n",
        "  key = pos_tag(token)\n",
        "  data=[]\n",
        "  for tag in key:\n",
        "    if tag[1] == 'NN':\n",
        "      data.append(tag[0])\n",
        "  \n",
        "  if len(data) == 0:\n",
        "    return token\n",
        "  \n",
        "  return list(data)\n",
        "\n",
        "\n",
        "\n",
        "def find_token(text):\n",
        "    '''\n",
        "    This function convert text, i.e string, into token\n",
        "    after doing all required pre-processing\n",
        "\n",
        "    argument: text -> input string to find token\n",
        "    returns the token\n",
        "\n",
        "    input: text of type string\n",
        "    output: strings in list\n",
        "    \n",
        "    '''\n",
        "    preprocess_text = text_processing(text)\n",
        "    noun_phrase_token = noun_phrase(preprocess_text)\n",
        "    \n",
        "    return noun_phrase_token\n",
        "           "
      ],
      "execution_count": 0,
      "outputs": []
    },
    {
      "cell_type": "code",
      "metadata": {
        "id": "1bVjDS8s80LA",
        "colab_type": "code",
        "colab": {}
      },
      "source": [
        "def text_processing(text):\n",
        "    \n",
        "    #removing everything except letter and space\n",
        "    temp = re.sub(r\"[^A-Za-z ]+\",r\"\",text)\n",
        "    #lower case\n",
        "    temp = temp.lower()\n",
        "    #remove unnecessary spaces\n",
        "    temp = \" \".join(temp.split())\n",
        "    #word tokenize\n",
        "    temp = word_tokenize(temp)\n",
        "    # remove stop words\n",
        "    temp = [ item for item in temp if item not in stop_word]\n",
        "    #lemmatize\n",
        "    temp = [lemmatizer.lemmatize(item) for item in temp]\n",
        "    \n",
        "    return temp"
      ],
      "execution_count": 0,
      "outputs": []
    },
    {
      "cell_type": "code",
      "metadata": {
        "id": "UUHcfOek88bu",
        "colab_type": "code",
        "colab": {}
      },
      "source": [
        "def find_class(text):\n",
        "    ''''\n",
        "    This function return the classes on which the WFH reason\n",
        "    belongs to \n",
        "\n",
        "    argument: text -> wfh reason \n",
        "    returns the classes on which wfh reason belongs\n",
        "\n",
        "    input: text of type string\n",
        "    output: text of type string\n",
        "    '''\n",
        "\n",
        "    assert isinstance(text,str), 'input should be string'\n",
        "    tokens = find_token(text)\n",
        "\n",
        "    if len(tokens) == 0:\n",
        "        return 'empty'\n",
        "    \n",
        "    \n",
        "    similar = []\n",
        "\n",
        "    for compare in list_group:\n",
        "        compare_with_all = []\n",
        "        \n",
        "        for token in tokens:\n",
        "            try:\n",
        "                similarity = model.similarity(compare,token)\n",
        "                compare_with_all.append(similarity)\n",
        "            except:\n",
        "                compare_with_all.append(-1)\n",
        "        \n",
        "        similar.append(max(compare_with_all))\n",
        "\n",
        "    if max(similar) > 0:\n",
        "        max_index = similar.index(max(similar))\n",
        "        return list_group[max_index]\n",
        "    \n",
        "    return 'other'"
      ],
      "execution_count": 0,
      "outputs": []
    },
    {
      "cell_type": "code",
      "metadata": {
        "id": "TjBWEIZX3eaw",
        "colab_type": "code",
        "outputId": "a51b7283-7fad-44b4-8fc2-45c8e73fd505",
        "colab": {
          "base_uri": "https://localhost:8080/",
          "height": 71
        }
      },
      "source": [
        "# print(find_class('travelling to hospital'))\n",
        "# file.head()\n",
        "file['class'] = file['process_lyrics'].apply(find_class)"
      ],
      "execution_count": 0,
      "outputs": [
        {
          "output_type": "stream",
          "text": [
            "/usr/local/lib/python3.6/dist-packages/gensim/matutils.py:737: FutureWarning: Conversion of the second argument of issubdtype from `int` to `np.signedinteger` is deprecated. In future, it will be treated as `np.int64 == np.dtype(int).type`.\n",
            "  if np.issubdtype(vec.dtype, np.int):\n"
          ],
          "name": "stderr"
        }
      ]
    },
    {
      "cell_type": "code",
      "metadata": {
        "id": "JR0PNGk4I1Uy",
        "colab_type": "code",
        "colab": {}
      },
      "source": [
        "file.to_csv('after_classfying_data.csv')\n",
        "!cp after_classfying_data.csv drive/My\\ Drive/dataset/"
      ],
      "execution_count": 0,
      "outputs": []
    },
    {
      "cell_type": "code",
      "metadata": {
        "id": "Ry3-fBsOdFi7",
        "colab_type": "code",
        "outputId": "86ac8a38-8df9-433f-81ea-0a4d9df5bb2f",
        "colab": {
          "base_uri": "https://localhost:8080/",
          "height": 374
        }
      },
      "source": [
        "file.head()"
      ],
      "execution_count": 0,
      "outputs": [
        {
          "output_type": "execute_result",
          "data": {
            "text/html": [
              "<div>\n",
              "<style scoped>\n",
              "    .dataframe tbody tr th:only-of-type {\n",
              "        vertical-align: middle;\n",
              "    }\n",
              "\n",
              "    .dataframe tbody tr th {\n",
              "        vertical-align: top;\n",
              "    }\n",
              "\n",
              "    .dataframe thead th {\n",
              "        text-align: right;\n",
              "    }\n",
              "</style>\n",
              "<table border=\"1\" class=\"dataframe\">\n",
              "  <thead>\n",
              "    <tr style=\"text-align: right;\">\n",
              "      <th></th>\n",
              "      <th>index</th>\n",
              "      <th>song</th>\n",
              "      <th>year</th>\n",
              "      <th>artist</th>\n",
              "      <th>genre</th>\n",
              "      <th>lyrics</th>\n",
              "      <th>process_lyrics</th>\n",
              "      <th>sentiment</th>\n",
              "      <th>class</th>\n",
              "      <th>no_words</th>\n",
              "    </tr>\n",
              "  </thead>\n",
              "  <tbody>\n",
              "    <tr>\n",
              "      <th>0</th>\n",
              "      <td>0</td>\n",
              "      <td>ego-remix</td>\n",
              "      <td>2009</td>\n",
              "      <td>beyonce-knowles</td>\n",
              "      <td>Pop</td>\n",
              "      <td>Oh baby, how you doing?\\nYou know I'm gonna cu...</td>\n",
              "      <td>oh baby how you doing you know im gonna cut ri...</td>\n",
              "      <td>0.148268</td>\n",
              "      <td>love</td>\n",
              "      <td>137</td>\n",
              "    </tr>\n",
              "    <tr>\n",
              "      <th>1</th>\n",
              "      <td>1</td>\n",
              "      <td>then-tell-me</td>\n",
              "      <td>2009</td>\n",
              "      <td>beyonce-knowles</td>\n",
              "      <td>Pop</td>\n",
              "      <td>playin' everything so easy,\\nit's like you see...</td>\n",
              "      <td>playin everything so easy its like you seem so...</td>\n",
              "      <td>0.068365</td>\n",
              "      <td>sad</td>\n",
              "      <td>121</td>\n",
              "    </tr>\n",
              "    <tr>\n",
              "      <th>2</th>\n",
              "      <td>2</td>\n",
              "      <td>honesty</td>\n",
              "      <td>2009</td>\n",
              "      <td>beyonce-knowles</td>\n",
              "      <td>Pop</td>\n",
              "      <td>If you search\\nFor tenderness\\nIt isn't hard t...</td>\n",
              "      <td>if you search for tenderness it isnt hard to f...</td>\n",
              "      <td>0.004720</td>\n",
              "      <td>devotion</td>\n",
              "      <td>99</td>\n",
              "    </tr>\n",
              "    <tr>\n",
              "      <th>3</th>\n",
              "      <td>3</td>\n",
              "      <td>you-are-my-rock</td>\n",
              "      <td>2009</td>\n",
              "      <td>beyonce-knowles</td>\n",
              "      <td>Pop</td>\n",
              "      <td>Oh oh oh I, oh oh oh I\\n[Verse 1:]\\nIf I wrote...</td>\n",
              "      <td>oh oh oh i oh oh oh i verse 1 if i wrote a boo...</td>\n",
              "      <td>0.390422</td>\n",
              "      <td>love</td>\n",
              "      <td>128</td>\n",
              "    </tr>\n",
              "    <tr>\n",
              "      <th>4</th>\n",
              "      <td>4</td>\n",
              "      <td>black-culture</td>\n",
              "      <td>2009</td>\n",
              "      <td>beyonce-knowles</td>\n",
              "      <td>Pop</td>\n",
              "      <td>Party the people, the people the party it's po...</td>\n",
              "      <td>party the people the people the party its popp...</td>\n",
              "      <td>-0.170833</td>\n",
              "      <td>wedding</td>\n",
              "      <td>47</td>\n",
              "    </tr>\n",
              "  </tbody>\n",
              "</table>\n",
              "</div>"
            ],
            "text/plain": [
              "   index             song  year  ... sentiment     class no_words\n",
              "0      0        ego-remix  2009  ...  0.148268      love      137\n",
              "1      1     then-tell-me  2009  ...  0.068365       sad      121\n",
              "2      2          honesty  2009  ...  0.004720  devotion       99\n",
              "3      3  you-are-my-rock  2009  ...  0.390422      love      128\n",
              "4      4    black-culture  2009  ... -0.170833   wedding       47\n",
              "\n",
              "[5 rows x 10 columns]"
            ]
          },
          "metadata": {
            "tags": []
          },
          "execution_count": 36
        }
      ]
    },
    {
      "cell_type": "code",
      "metadata": {
        "id": "43jru33A3ea0",
        "colab_type": "code",
        "colab": {}
      },
      "source": [
        "def number_of_words(text):\n",
        "    return len(set(text.split()))\n",
        "\n",
        "file['no_words'] = file['process_lyrics'].apply(number_of_words)"
      ],
      "execution_count": 0,
      "outputs": []
    },
    {
      "cell_type": "code",
      "metadata": {
        "id": "1N6DVzhRdQEt",
        "colab_type": "code",
        "outputId": "582b1740-bb47-4874-eee3-7d2ff7b31b35",
        "colab": {
          "base_uri": "https://localhost:8080/",
          "height": 374
        }
      },
      "source": [
        "file.head()"
      ],
      "execution_count": 0,
      "outputs": [
        {
          "output_type": "execute_result",
          "data": {
            "text/html": [
              "<div>\n",
              "<style scoped>\n",
              "    .dataframe tbody tr th:only-of-type {\n",
              "        vertical-align: middle;\n",
              "    }\n",
              "\n",
              "    .dataframe tbody tr th {\n",
              "        vertical-align: top;\n",
              "    }\n",
              "\n",
              "    .dataframe thead th {\n",
              "        text-align: right;\n",
              "    }\n",
              "</style>\n",
              "<table border=\"1\" class=\"dataframe\">\n",
              "  <thead>\n",
              "    <tr style=\"text-align: right;\">\n",
              "      <th></th>\n",
              "      <th>index</th>\n",
              "      <th>song</th>\n",
              "      <th>year</th>\n",
              "      <th>artist</th>\n",
              "      <th>genre</th>\n",
              "      <th>lyrics</th>\n",
              "      <th>process_lyrics</th>\n",
              "      <th>sentiment</th>\n",
              "      <th>class</th>\n",
              "      <th>no_words</th>\n",
              "    </tr>\n",
              "  </thead>\n",
              "  <tbody>\n",
              "    <tr>\n",
              "      <th>0</th>\n",
              "      <td>0</td>\n",
              "      <td>ego-remix</td>\n",
              "      <td>2009</td>\n",
              "      <td>beyonce-knowles</td>\n",
              "      <td>Pop</td>\n",
              "      <td>Oh baby, how you doing?\\nYou know I'm gonna cu...</td>\n",
              "      <td>oh baby how you doing you know im gonna cut ri...</td>\n",
              "      <td>0.148268</td>\n",
              "      <td>love</td>\n",
              "      <td>137</td>\n",
              "    </tr>\n",
              "    <tr>\n",
              "      <th>1</th>\n",
              "      <td>1</td>\n",
              "      <td>then-tell-me</td>\n",
              "      <td>2009</td>\n",
              "      <td>beyonce-knowles</td>\n",
              "      <td>Pop</td>\n",
              "      <td>playin' everything so easy,\\nit's like you see...</td>\n",
              "      <td>playin everything so easy its like you seem so...</td>\n",
              "      <td>0.068365</td>\n",
              "      <td>sad</td>\n",
              "      <td>121</td>\n",
              "    </tr>\n",
              "    <tr>\n",
              "      <th>2</th>\n",
              "      <td>2</td>\n",
              "      <td>honesty</td>\n",
              "      <td>2009</td>\n",
              "      <td>beyonce-knowles</td>\n",
              "      <td>Pop</td>\n",
              "      <td>If you search\\nFor tenderness\\nIt isn't hard t...</td>\n",
              "      <td>if you search for tenderness it isnt hard to f...</td>\n",
              "      <td>0.004720</td>\n",
              "      <td>devotion</td>\n",
              "      <td>99</td>\n",
              "    </tr>\n",
              "    <tr>\n",
              "      <th>3</th>\n",
              "      <td>3</td>\n",
              "      <td>you-are-my-rock</td>\n",
              "      <td>2009</td>\n",
              "      <td>beyonce-knowles</td>\n",
              "      <td>Pop</td>\n",
              "      <td>Oh oh oh I, oh oh oh I\\n[Verse 1:]\\nIf I wrote...</td>\n",
              "      <td>oh oh oh i oh oh oh i verse 1 if i wrote a boo...</td>\n",
              "      <td>0.390422</td>\n",
              "      <td>love</td>\n",
              "      <td>128</td>\n",
              "    </tr>\n",
              "    <tr>\n",
              "      <th>4</th>\n",
              "      <td>4</td>\n",
              "      <td>black-culture</td>\n",
              "      <td>2009</td>\n",
              "      <td>beyonce-knowles</td>\n",
              "      <td>Pop</td>\n",
              "      <td>Party the people, the people the party it's po...</td>\n",
              "      <td>party the people the people the party its popp...</td>\n",
              "      <td>-0.170833</td>\n",
              "      <td>wedding</td>\n",
              "      <td>47</td>\n",
              "    </tr>\n",
              "  </tbody>\n",
              "</table>\n",
              "</div>"
            ],
            "text/plain": [
              "   index             song  year  ... sentiment     class no_words\n",
              "0      0        ego-remix  2009  ...  0.148268      love      137\n",
              "1      1     then-tell-me  2009  ...  0.068365       sad      121\n",
              "2      2          honesty  2009  ...  0.004720  devotion       99\n",
              "3      3  you-are-my-rock  2009  ...  0.390422      love      128\n",
              "4      4    black-culture  2009  ... -0.170833   wedding       47\n",
              "\n",
              "[5 rows x 10 columns]"
            ]
          },
          "metadata": {
            "tags": []
          },
          "execution_count": 33
        }
      ]
    },
    {
      "cell_type": "markdown",
      "metadata": {
        "id": "F1YlRFtH_X0p",
        "colab_type": "text"
      },
      "source": [
        "### Modelling RecSys"
      ]
    },
    {
      "cell_type": "code",
      "metadata": {
        "id": "AfgbFDWFdfsu",
        "colab_type": "code",
        "outputId": "410e4750-b614-4c05-9aa6-e64733b4882c",
        "colab": {
          "base_uri": "https://localhost:8080/",
          "height": 207
        }
      },
      "source": [
        "file = pd.read_csv(data_folder +'after_classfying_data.csv')\n",
        "file.drop('Unnamed: 0',axis=1,inplace=True)\n",
        "print(file.head())"
      ],
      "execution_count": 5,
      "outputs": [
        {
          "output_type": "stream",
          "text": [
            "/usr/local/lib/python3.6/dist-packages/IPython/core/interactiveshell.py:2718: DtypeWarning: Columns (0) have mixed types. Specify dtype option on import or set low_memory=False.\n",
            "  interactivity=interactivity, compiler=compiler, result=result)\n"
          ],
          "name": "stderr"
        },
        {
          "output_type": "stream",
          "text": [
            "   index             song  year  ... sentiment     class no_words\n",
            "0    0.0        ego-remix  2009  ...  0.148268      love    137.0\n",
            "1    1.0     then-tell-me  2009  ...  0.068365       sad    121.0\n",
            "2    2.0          honesty  2009  ...  0.004720  devotion     99.0\n",
            "3    3.0  you-are-my-rock  2009  ...  0.390422      love    128.0\n",
            "4    4.0    black-culture  2009  ... -0.170833   wedding     47.0\n",
            "\n",
            "[5 rows x 10 columns]\n"
          ],
          "name": "stdout"
        }
      ]
    },
    {
      "cell_type": "code",
      "metadata": {
        "id": "TlM7tttkXnop",
        "colab_type": "code",
        "outputId": "3401b1d9-5ad5-448d-805d-8753d66e8851",
        "colab": {
          "base_uri": "https://localhost:8080/",
          "height": 34
        }
      },
      "source": [
        "### Comment out this block if you have more ram and graphics.. i am currently taking of 0.5 lakh song\n",
        "file = file[:50000]\n",
        "len(file)"
      ],
      "execution_count": 105,
      "outputs": [
        {
          "output_type": "execute_result",
          "data": {
            "text/plain": [
              "50000"
            ]
          },
          "metadata": {
            "tags": []
          },
          "execution_count": 105
        }
      ]
    },
    {
      "cell_type": "code",
      "metadata": {
        "id": "wi480sO5MGhF",
        "colab_type": "code",
        "colab": {}
      },
      "source": [
        "new_file = file[['song','year','artist','genre','process_lyrics','sentiment','class','no_words']]\n",
        "abc = pd.get_dummies(data = new_file,columns=['year','artist','genre','class'])\n",
        "abc['sentiment'] = new_file['sentiment']\n",
        "abc['no_words'] = new_file['no_words']"
      ],
      "execution_count": 0,
      "outputs": []
    },
    {
      "cell_type": "code",
      "metadata": {
        "id": "Yl1DfFBXqras",
        "colab_type": "code",
        "outputId": "9442d3e5-ec7e-48fc-ac71-d24dfbaa9c2e",
        "colab": {
          "base_uri": "https://localhost:8080/",
          "height": 457
        }
      },
      "source": [
        "abc.head()"
      ],
      "execution_count": 8,
      "outputs": [
        {
          "output_type": "execute_result",
          "data": {
            "text/html": [
              "<div>\n",
              "<style scoped>\n",
              "    .dataframe tbody tr th:only-of-type {\n",
              "        vertical-align: middle;\n",
              "    }\n",
              "\n",
              "    .dataframe tbody tr th {\n",
              "        vertical-align: top;\n",
              "    }\n",
              "\n",
              "    .dataframe thead th {\n",
              "        text-align: right;\n",
              "    }\n",
              "</style>\n",
              "<table border=\"1\" class=\"dataframe\">\n",
              "  <thead>\n",
              "    <tr style=\"text-align: right;\">\n",
              "      <th></th>\n",
              "      <th>song</th>\n",
              "      <th>process_lyrics</th>\n",
              "      <th>sentiment</th>\n",
              "      <th>no_words</th>\n",
              "      <th>year_702</th>\n",
              "      <th>year_1970</th>\n",
              "      <th>year_1971</th>\n",
              "      <th>year_1972</th>\n",
              "      <th>year_1973</th>\n",
              "      <th>year_1974</th>\n",
              "      <th>year_1975</th>\n",
              "      <th>year_1976</th>\n",
              "      <th>year_1977</th>\n",
              "      <th>year_1978</th>\n",
              "      <th>year_1979</th>\n",
              "      <th>year_1980</th>\n",
              "      <th>year_1981</th>\n",
              "      <th>year_1982</th>\n",
              "      <th>year_1983</th>\n",
              "      <th>year_1984</th>\n",
              "      <th>year_1985</th>\n",
              "      <th>year_1986</th>\n",
              "      <th>year_1987</th>\n",
              "      <th>year_1988</th>\n",
              "      <th>year_1989</th>\n",
              "      <th>year_1990</th>\n",
              "      <th>year_1991</th>\n",
              "      <th>year_1992</th>\n",
              "      <th>year_1993</th>\n",
              "      <th>year_1994</th>\n",
              "      <th>year_1995</th>\n",
              "      <th>year_1996</th>\n",
              "      <th>year_1997</th>\n",
              "      <th>year_1998</th>\n",
              "      <th>year_1999</th>\n",
              "      <th>year_2000</th>\n",
              "      <th>year_2001</th>\n",
              "      <th>year_2002</th>\n",
              "      <th>year_2003</th>\n",
              "      <th>year_2004</th>\n",
              "      <th>...</th>\n",
              "      <th>artist_the-foris</th>\n",
              "      <th>artist_the-four-horsemen</th>\n",
              "      <th>artist_the-frights</th>\n",
              "      <th>artist_the-gamits</th>\n",
              "      <th>artist_the-gaslight-anthem</th>\n",
              "      <th>artist_the-gathering</th>\n",
              "      <th>artist_the-gc5</th>\n",
              "      <th>artist_the-gents</th>\n",
              "      <th>artist_the-getaway-plan</th>\n",
              "      <th>artist_the-glitter-band</th>\n",
              "      <th>artist_the-gloria-record</th>\n",
              "      <th>artist_the-golden-sounds</th>\n",
              "      <th>artist_the-golliwogs</th>\n",
              "      <th>artist_the-good-china</th>\n",
              "      <th>artist_the-good-life</th>\n",
              "      <th>artist_the-grand-magnolias</th>\n",
              "      <th>artist_ykforward-russia</th>\n",
              "      <th>genre_Country</th>\n",
              "      <th>genre_Electronic</th>\n",
              "      <th>genre_Folk</th>\n",
              "      <th>genre_Hip-Hop</th>\n",
              "      <th>genre_Indie</th>\n",
              "      <th>genre_Jazz</th>\n",
              "      <th>genre_Metal</th>\n",
              "      <th>genre_Not Available</th>\n",
              "      <th>genre_Other</th>\n",
              "      <th>genre_Pop</th>\n",
              "      <th>genre_R&amp;B</th>\n",
              "      <th>genre_Rock</th>\n",
              "      <th>class_dance</th>\n",
              "      <th>class_devotion</th>\n",
              "      <th>class_empty</th>\n",
              "      <th>class_inspirational</th>\n",
              "      <th>class_love</th>\n",
              "      <th>class_other</th>\n",
              "      <th>class_relaxing</th>\n",
              "      <th>class_retro</th>\n",
              "      <th>class_romance</th>\n",
              "      <th>class_sad</th>\n",
              "      <th>class_wedding</th>\n",
              "    </tr>\n",
              "  </thead>\n",
              "  <tbody>\n",
              "    <tr>\n",
              "      <th>0</th>\n",
              "      <td>ego-remix</td>\n",
              "      <td>oh baby how you doing you know im gonna cut ri...</td>\n",
              "      <td>0.148268</td>\n",
              "      <td>137.0</td>\n",
              "      <td>0</td>\n",
              "      <td>0</td>\n",
              "      <td>0</td>\n",
              "      <td>0</td>\n",
              "      <td>0</td>\n",
              "      <td>0</td>\n",
              "      <td>0</td>\n",
              "      <td>0</td>\n",
              "      <td>0</td>\n",
              "      <td>0</td>\n",
              "      <td>0</td>\n",
              "      <td>0</td>\n",
              "      <td>0</td>\n",
              "      <td>0</td>\n",
              "      <td>0</td>\n",
              "      <td>0</td>\n",
              "      <td>0</td>\n",
              "      <td>0</td>\n",
              "      <td>0</td>\n",
              "      <td>0</td>\n",
              "      <td>0</td>\n",
              "      <td>0</td>\n",
              "      <td>0</td>\n",
              "      <td>0</td>\n",
              "      <td>0</td>\n",
              "      <td>0</td>\n",
              "      <td>0</td>\n",
              "      <td>0</td>\n",
              "      <td>0</td>\n",
              "      <td>0</td>\n",
              "      <td>0</td>\n",
              "      <td>0</td>\n",
              "      <td>0</td>\n",
              "      <td>0</td>\n",
              "      <td>0</td>\n",
              "      <td>0</td>\n",
              "      <td>...</td>\n",
              "      <td>0</td>\n",
              "      <td>0</td>\n",
              "      <td>0</td>\n",
              "      <td>0</td>\n",
              "      <td>0</td>\n",
              "      <td>0</td>\n",
              "      <td>0</td>\n",
              "      <td>0</td>\n",
              "      <td>0</td>\n",
              "      <td>0</td>\n",
              "      <td>0</td>\n",
              "      <td>0</td>\n",
              "      <td>0</td>\n",
              "      <td>0</td>\n",
              "      <td>0</td>\n",
              "      <td>0</td>\n",
              "      <td>0</td>\n",
              "      <td>0</td>\n",
              "      <td>0</td>\n",
              "      <td>0</td>\n",
              "      <td>0</td>\n",
              "      <td>0</td>\n",
              "      <td>0</td>\n",
              "      <td>0</td>\n",
              "      <td>0</td>\n",
              "      <td>0</td>\n",
              "      <td>1</td>\n",
              "      <td>0</td>\n",
              "      <td>0</td>\n",
              "      <td>0</td>\n",
              "      <td>0</td>\n",
              "      <td>0</td>\n",
              "      <td>0</td>\n",
              "      <td>1</td>\n",
              "      <td>0</td>\n",
              "      <td>0</td>\n",
              "      <td>0</td>\n",
              "      <td>0</td>\n",
              "      <td>0</td>\n",
              "      <td>0</td>\n",
              "    </tr>\n",
              "    <tr>\n",
              "      <th>1</th>\n",
              "      <td>then-tell-me</td>\n",
              "      <td>playin everything so easy its like you seem so...</td>\n",
              "      <td>0.068365</td>\n",
              "      <td>121.0</td>\n",
              "      <td>0</td>\n",
              "      <td>0</td>\n",
              "      <td>0</td>\n",
              "      <td>0</td>\n",
              "      <td>0</td>\n",
              "      <td>0</td>\n",
              "      <td>0</td>\n",
              "      <td>0</td>\n",
              "      <td>0</td>\n",
              "      <td>0</td>\n",
              "      <td>0</td>\n",
              "      <td>0</td>\n",
              "      <td>0</td>\n",
              "      <td>0</td>\n",
              "      <td>0</td>\n",
              "      <td>0</td>\n",
              "      <td>0</td>\n",
              "      <td>0</td>\n",
              "      <td>0</td>\n",
              "      <td>0</td>\n",
              "      <td>0</td>\n",
              "      <td>0</td>\n",
              "      <td>0</td>\n",
              "      <td>0</td>\n",
              "      <td>0</td>\n",
              "      <td>0</td>\n",
              "      <td>0</td>\n",
              "      <td>0</td>\n",
              "      <td>0</td>\n",
              "      <td>0</td>\n",
              "      <td>0</td>\n",
              "      <td>0</td>\n",
              "      <td>0</td>\n",
              "      <td>0</td>\n",
              "      <td>0</td>\n",
              "      <td>0</td>\n",
              "      <td>...</td>\n",
              "      <td>0</td>\n",
              "      <td>0</td>\n",
              "      <td>0</td>\n",
              "      <td>0</td>\n",
              "      <td>0</td>\n",
              "      <td>0</td>\n",
              "      <td>0</td>\n",
              "      <td>0</td>\n",
              "      <td>0</td>\n",
              "      <td>0</td>\n",
              "      <td>0</td>\n",
              "      <td>0</td>\n",
              "      <td>0</td>\n",
              "      <td>0</td>\n",
              "      <td>0</td>\n",
              "      <td>0</td>\n",
              "      <td>0</td>\n",
              "      <td>0</td>\n",
              "      <td>0</td>\n",
              "      <td>0</td>\n",
              "      <td>0</td>\n",
              "      <td>0</td>\n",
              "      <td>0</td>\n",
              "      <td>0</td>\n",
              "      <td>0</td>\n",
              "      <td>0</td>\n",
              "      <td>1</td>\n",
              "      <td>0</td>\n",
              "      <td>0</td>\n",
              "      <td>0</td>\n",
              "      <td>0</td>\n",
              "      <td>0</td>\n",
              "      <td>0</td>\n",
              "      <td>0</td>\n",
              "      <td>0</td>\n",
              "      <td>0</td>\n",
              "      <td>0</td>\n",
              "      <td>0</td>\n",
              "      <td>1</td>\n",
              "      <td>0</td>\n",
              "    </tr>\n",
              "    <tr>\n",
              "      <th>2</th>\n",
              "      <td>honesty</td>\n",
              "      <td>if you search for tenderness it isnt hard to f...</td>\n",
              "      <td>0.004720</td>\n",
              "      <td>99.0</td>\n",
              "      <td>0</td>\n",
              "      <td>0</td>\n",
              "      <td>0</td>\n",
              "      <td>0</td>\n",
              "      <td>0</td>\n",
              "      <td>0</td>\n",
              "      <td>0</td>\n",
              "      <td>0</td>\n",
              "      <td>0</td>\n",
              "      <td>0</td>\n",
              "      <td>0</td>\n",
              "      <td>0</td>\n",
              "      <td>0</td>\n",
              "      <td>0</td>\n",
              "      <td>0</td>\n",
              "      <td>0</td>\n",
              "      <td>0</td>\n",
              "      <td>0</td>\n",
              "      <td>0</td>\n",
              "      <td>0</td>\n",
              "      <td>0</td>\n",
              "      <td>0</td>\n",
              "      <td>0</td>\n",
              "      <td>0</td>\n",
              "      <td>0</td>\n",
              "      <td>0</td>\n",
              "      <td>0</td>\n",
              "      <td>0</td>\n",
              "      <td>0</td>\n",
              "      <td>0</td>\n",
              "      <td>0</td>\n",
              "      <td>0</td>\n",
              "      <td>0</td>\n",
              "      <td>0</td>\n",
              "      <td>0</td>\n",
              "      <td>0</td>\n",
              "      <td>...</td>\n",
              "      <td>0</td>\n",
              "      <td>0</td>\n",
              "      <td>0</td>\n",
              "      <td>0</td>\n",
              "      <td>0</td>\n",
              "      <td>0</td>\n",
              "      <td>0</td>\n",
              "      <td>0</td>\n",
              "      <td>0</td>\n",
              "      <td>0</td>\n",
              "      <td>0</td>\n",
              "      <td>0</td>\n",
              "      <td>0</td>\n",
              "      <td>0</td>\n",
              "      <td>0</td>\n",
              "      <td>0</td>\n",
              "      <td>0</td>\n",
              "      <td>0</td>\n",
              "      <td>0</td>\n",
              "      <td>0</td>\n",
              "      <td>0</td>\n",
              "      <td>0</td>\n",
              "      <td>0</td>\n",
              "      <td>0</td>\n",
              "      <td>0</td>\n",
              "      <td>0</td>\n",
              "      <td>1</td>\n",
              "      <td>0</td>\n",
              "      <td>0</td>\n",
              "      <td>0</td>\n",
              "      <td>1</td>\n",
              "      <td>0</td>\n",
              "      <td>0</td>\n",
              "      <td>0</td>\n",
              "      <td>0</td>\n",
              "      <td>0</td>\n",
              "      <td>0</td>\n",
              "      <td>0</td>\n",
              "      <td>0</td>\n",
              "      <td>0</td>\n",
              "    </tr>\n",
              "    <tr>\n",
              "      <th>3</th>\n",
              "      <td>you-are-my-rock</td>\n",
              "      <td>oh oh oh i oh oh oh i verse 1 if i wrote a boo...</td>\n",
              "      <td>0.390422</td>\n",
              "      <td>128.0</td>\n",
              "      <td>0</td>\n",
              "      <td>0</td>\n",
              "      <td>0</td>\n",
              "      <td>0</td>\n",
              "      <td>0</td>\n",
              "      <td>0</td>\n",
              "      <td>0</td>\n",
              "      <td>0</td>\n",
              "      <td>0</td>\n",
              "      <td>0</td>\n",
              "      <td>0</td>\n",
              "      <td>0</td>\n",
              "      <td>0</td>\n",
              "      <td>0</td>\n",
              "      <td>0</td>\n",
              "      <td>0</td>\n",
              "      <td>0</td>\n",
              "      <td>0</td>\n",
              "      <td>0</td>\n",
              "      <td>0</td>\n",
              "      <td>0</td>\n",
              "      <td>0</td>\n",
              "      <td>0</td>\n",
              "      <td>0</td>\n",
              "      <td>0</td>\n",
              "      <td>0</td>\n",
              "      <td>0</td>\n",
              "      <td>0</td>\n",
              "      <td>0</td>\n",
              "      <td>0</td>\n",
              "      <td>0</td>\n",
              "      <td>0</td>\n",
              "      <td>0</td>\n",
              "      <td>0</td>\n",
              "      <td>0</td>\n",
              "      <td>0</td>\n",
              "      <td>...</td>\n",
              "      <td>0</td>\n",
              "      <td>0</td>\n",
              "      <td>0</td>\n",
              "      <td>0</td>\n",
              "      <td>0</td>\n",
              "      <td>0</td>\n",
              "      <td>0</td>\n",
              "      <td>0</td>\n",
              "      <td>0</td>\n",
              "      <td>0</td>\n",
              "      <td>0</td>\n",
              "      <td>0</td>\n",
              "      <td>0</td>\n",
              "      <td>0</td>\n",
              "      <td>0</td>\n",
              "      <td>0</td>\n",
              "      <td>0</td>\n",
              "      <td>0</td>\n",
              "      <td>0</td>\n",
              "      <td>0</td>\n",
              "      <td>0</td>\n",
              "      <td>0</td>\n",
              "      <td>0</td>\n",
              "      <td>0</td>\n",
              "      <td>0</td>\n",
              "      <td>0</td>\n",
              "      <td>1</td>\n",
              "      <td>0</td>\n",
              "      <td>0</td>\n",
              "      <td>0</td>\n",
              "      <td>0</td>\n",
              "      <td>0</td>\n",
              "      <td>0</td>\n",
              "      <td>1</td>\n",
              "      <td>0</td>\n",
              "      <td>0</td>\n",
              "      <td>0</td>\n",
              "      <td>0</td>\n",
              "      <td>0</td>\n",
              "      <td>0</td>\n",
              "    </tr>\n",
              "    <tr>\n",
              "      <th>4</th>\n",
              "      <td>black-culture</td>\n",
              "      <td>party the people the people the party its popp...</td>\n",
              "      <td>-0.170833</td>\n",
              "      <td>47.0</td>\n",
              "      <td>0</td>\n",
              "      <td>0</td>\n",
              "      <td>0</td>\n",
              "      <td>0</td>\n",
              "      <td>0</td>\n",
              "      <td>0</td>\n",
              "      <td>0</td>\n",
              "      <td>0</td>\n",
              "      <td>0</td>\n",
              "      <td>0</td>\n",
              "      <td>0</td>\n",
              "      <td>0</td>\n",
              "      <td>0</td>\n",
              "      <td>0</td>\n",
              "      <td>0</td>\n",
              "      <td>0</td>\n",
              "      <td>0</td>\n",
              "      <td>0</td>\n",
              "      <td>0</td>\n",
              "      <td>0</td>\n",
              "      <td>0</td>\n",
              "      <td>0</td>\n",
              "      <td>0</td>\n",
              "      <td>0</td>\n",
              "      <td>0</td>\n",
              "      <td>0</td>\n",
              "      <td>0</td>\n",
              "      <td>0</td>\n",
              "      <td>0</td>\n",
              "      <td>0</td>\n",
              "      <td>0</td>\n",
              "      <td>0</td>\n",
              "      <td>0</td>\n",
              "      <td>0</td>\n",
              "      <td>0</td>\n",
              "      <td>0</td>\n",
              "      <td>...</td>\n",
              "      <td>0</td>\n",
              "      <td>0</td>\n",
              "      <td>0</td>\n",
              "      <td>0</td>\n",
              "      <td>0</td>\n",
              "      <td>0</td>\n",
              "      <td>0</td>\n",
              "      <td>0</td>\n",
              "      <td>0</td>\n",
              "      <td>0</td>\n",
              "      <td>0</td>\n",
              "      <td>0</td>\n",
              "      <td>0</td>\n",
              "      <td>0</td>\n",
              "      <td>0</td>\n",
              "      <td>0</td>\n",
              "      <td>0</td>\n",
              "      <td>0</td>\n",
              "      <td>0</td>\n",
              "      <td>0</td>\n",
              "      <td>0</td>\n",
              "      <td>0</td>\n",
              "      <td>0</td>\n",
              "      <td>0</td>\n",
              "      <td>0</td>\n",
              "      <td>0</td>\n",
              "      <td>1</td>\n",
              "      <td>0</td>\n",
              "      <td>0</td>\n",
              "      <td>0</td>\n",
              "      <td>0</td>\n",
              "      <td>0</td>\n",
              "      <td>0</td>\n",
              "      <td>0</td>\n",
              "      <td>0</td>\n",
              "      <td>0</td>\n",
              "      <td>0</td>\n",
              "      <td>0</td>\n",
              "      <td>0</td>\n",
              "      <td>1</td>\n",
              "    </tr>\n",
              "  </tbody>\n",
              "</table>\n",
              "<p>5 rows × 2918 columns</p>\n",
              "</div>"
            ],
            "text/plain": [
              "              song  ... class_wedding\n",
              "0        ego-remix  ...             0\n",
              "1     then-tell-me  ...             0\n",
              "2          honesty  ...             0\n",
              "3  you-are-my-rock  ...             0\n",
              "4    black-culture  ...             1\n",
              "\n",
              "[5 rows x 2918 columns]"
            ]
          },
          "metadata": {
            "tags": []
          },
          "execution_count": 8
        }
      ]
    },
    {
      "cell_type": "code",
      "metadata": {
        "id": "M0odS1rSQdXN",
        "colab_type": "code",
        "outputId": "db0b4b04-c2c0-4735-8798-a6317406b021",
        "colab": {
          "base_uri": "https://localhost:8080/",
          "height": 34
        }
      },
      "source": [
        "abc.index"
      ],
      "execution_count": 9,
      "outputs": [
        {
          "output_type": "execute_result",
          "data": {
            "text/plain": [
              "RangeIndex(start=0, stop=50000, step=1)"
            ]
          },
          "metadata": {
            "tags": []
          },
          "execution_count": 9
        }
      ]
    },
    {
      "cell_type": "code",
      "metadata": {
        "id": "Zynkea2brCFy",
        "colab_type": "code",
        "colab": {}
      },
      "source": [
        "from sklearn.metrics.pairwise import cosine_similarity"
      ],
      "execution_count": 0,
      "outputs": []
    },
    {
      "cell_type": "code",
      "metadata": {
        "id": "2N-dqSvlynan",
        "colab_type": "code",
        "colab": {}
      },
      "source": [
        "matrix_df = abc[abc.columns.difference(['song','process_lyrics'])]\n",
        "cosine_sim = cosine_similarity(matrix_df, matrix_df.iloc[0:1])"
      ],
      "execution_count": 0,
      "outputs": []
    },
    {
      "cell_type": "code",
      "metadata": {
        "id": "E4n44rmBkIhE",
        "colab_type": "code",
        "colab": {}
      },
      "source": [
        "def find_similar(song, number):\n",
        "    try:\n",
        "        inde_ = int(file[file['song']=='black-culture'].iloc[0][0])\n",
        "    except:\n",
        "        print('song not in the list, please check spelling')\n",
        "        return 0\n",
        "    print('Current')\n",
        "    print('song:',song)\n",
        "    print('lyrics:',file.iloc[inde_][6])\n",
        "    val = cosine_sim[inde_]\n",
        "    cosine_list = sum(cosine_sim.tolist(), [])\n",
        "    diff_ = []\n",
        "    for element in cosine_list:\n",
        "        diff_.append(abs(element - val).tolist())\n",
        "    reco_index =  np.argsort(sum(diff_,[]))[1:number+1].tolist()\n",
        "    print('')\n",
        "    print('Recommended ',number,' songs are')\n",
        "    for number in reco_index:\n",
        "        print('---------------------------')\n",
        "        print('song:',file.iloc[number][1])\n",
        "        print('lyrics:',file.iloc[number][6])\n",
        "    "
      ],
      "execution_count": 0,
      "outputs": []
    },
    {
      "cell_type": "code",
      "metadata": {
        "id": "pP2blF54YO4M",
        "colab_type": "code",
        "colab": {
          "base_uri": "https://localhost:8080/",
          "height": 479
        },
        "outputId": "8c055073-9e92-4d11-be7c-76f7780b8987"
      },
      "source": [
        "find_similar('you-are-my-rock',7)"
      ],
      "execution_count": 102,
      "outputs": [
        {
          "output_type": "stream",
          "text": [
            "Current\n",
            "song: you-are-my-rock\n",
            "lyrics: party the people the people the party its popping no sitting around i see you looking you looking i see you i look at what you started now lets hook up little one on one up come on give some of the that stuff let me freshin it with no ruff lets go lets hook up when we start we wont stop baby baby dont stop come on give me some of that stuff lets go i am black culture i am black culture i am black culture i am black culture party the people the people the party its popping no sitting around i see you looking you looking i see you i look at what you started now lets hook up come one give some of the that stuff let me freshin it up little one on one with no ruff lets go lets hook up when we start we wont stop baby baby dont stop come on give me some of that stuff lets go you are black culture you are black culture you are black culture you are black culture lets hook up come on give some of the that stuff let me freshin it up little one on one with no ruff lets go lets hook up when we start we wont stop baby baby dont stop come on give me some of that stuff lets go lets hook up come on give some of the that stuff let me freshin it up little one on one with no ruff lets go lets hook up when we start we wont stop baby baby dont stop come on give me some of that stuff lets go we are black culture we are black culture we are black culture we are black culture we are black culture we are black culture we are black culture we are black culture\n",
            "\n",
            "Recommended  7  songs are\n",
            "---------------------------\n",
            "song: home-within-your-heart\n",
            "lyrics: from underneath too tired to sleep too angry to pray too far down to get back up too lost to find my way who knows what happened im too confused to say and too far gone to turn back now its too late anyway i dont need a clever confidant to try to soothe with hollow words ive heard them all what i need is just to know i have a home within your heart just hold me close a few words will do we dont have to find the answers now its enough to be with you chorus\n",
            "---------------------------\n",
            "song: r-s-v-p\n",
            "lyrics: how will i know please send me an rsvp telepathically tell me i cant let it go if you sent a letter would it make it better or make it worse id probably just blow it like i always do but god i want that chance with you one arm around me while the other one is pushing me away if you gave me a call i wouldnt even mind it if you said the wrong thing or nothing at all if you gave me a sign that i could be the one to hold you up id never let you fall i know i wouldnt blow it like i always do if i just had a chance with you one arm around me while the other one is pushing me away how will i know please send an rsvp telepathically\n",
            "---------------------------\n",
            "song: jesus-loves-me-this-i-know\n",
            "lyrics: tell the world that jesus loves you tell them youve found a forever friend youve opened up your hearts door to him the love of jesus has no end you can choose what not to believe in you can deny theres a heaven above but once you take a look at jesus theres no denying that god is love tell the world that jesus loves you tell them youve found a forever friend youve opened up your hearts door to him the love of jesus has no end if you want to show that you really love him if you want to prove that your love is true then youll obey the word hes spoken and do all the things hes commanded you to\n",
            "---------------------------\n",
            "song: tell-the-world-that-jesus-loves-you\n",
            "lyrics: tell the world that jesus loves you tell them youve found a forever friend youve opened up your hearts door to him the love of jesus has no end you can choose what not to believe in you can deny theres a heaven above but once you take a look at jesus theres no denying that god is love tell the world that jesus loves you tell them youve found a forever friend youve opened up your hearts door to him the love of jesus has no end if you want to show that you really love him if you want to prove that your love is true then youll obey the word hes spoken and do all the things hes commanded you to\n",
            "---------------------------\n",
            "song: golden\n",
            "lyrics: how cruel is the golden rule when the lives we lived are only golden plated and i knew that the lights of the city were too heavy for me and though i carry karats for everyone to see and i saw god cry in the reflection of my enemies and all the lovers with no time for me and all of the mothers raise their babies to stay away from me tongues on the sockets of electric dreams where the sewage of youth drowned the spark of my teens and i knew that the lights of the city were too heavy for me and though i carry karats for everyone to see and i saw god cry in the reflection of my enemies and all the lovers with no time for me and all of the mothers raise their babies to stay away from me and pray they dont grow up to be\n",
            "---------------------------\n",
            "song: dropping-like-flies\n",
            "lyrics: you got this habit you just cant shake theres not much more your body can take so you jab that needle in your vein another load of dirt for your brain scars and scars up and down your arms your body covered in a sheet of sweat you made the choice to drag out your life in a dull drugged oblivion eyes wide open lips blue with death your lifeless body slumped over in a chair no show at your funeral no flowers on your grave dropping like flies\n",
            "---------------------------\n",
            "song: tears-in-your-eyes\n",
            "lyrics: tears in your eyes tears in your eyes i found out the truth about you now there you lie tears in your eyes i made you cry im sorry im not sorry for those tears in your eyes i told you not to ever do me wrong apparently it didnt take you long like sand through my fingers i try to hold my anger but honey i guess i just aint that strong tears in your eyes tears in your eyes i found out the truth about you now there you lie tears in your eyes i made you cry im sorry im not sorry for those tears in your eyes how dare you cry and try to play the victim your reputations run all over town baby cant you see this time you wont fool me cause honey this time i wont be your clown tears in your eyes tears in your eyes i found out the truth about you now there you lie tears in your eyes i made you cry im sorry im not sorry for those tears in your eyes tears in your eyes tears in your eyes i found out the truth about you now there you lie tears in your eyes i made you cry im sorry im not sorry for those tears in your eyes\n"
          ],
          "name": "stdout"
        }
      ]
    },
    {
      "cell_type": "code",
      "metadata": {
        "id": "TkAzPLPOhTcy",
        "colab_type": "code",
        "colab": {
          "base_uri": "https://localhost:8080/",
          "height": 326
        },
        "outputId": "ed8383b3-55f4-4ebb-b1fb-005a14ef4c16"
      },
      "source": [
        "find_similar('these-are-the-times',4)"
      ],
      "execution_count": 104,
      "outputs": [
        {
          "output_type": "stream",
          "text": [
            "Current\n",
            "song: these-are-the-times\n",
            "lyrics: party the people the people the party its popping no sitting around i see you looking you looking i see you i look at what you started now lets hook up little one on one up come on give some of the that stuff let me freshin it with no ruff lets go lets hook up when we start we wont stop baby baby dont stop come on give me some of that stuff lets go i am black culture i am black culture i am black culture i am black culture party the people the people the party its popping no sitting around i see you looking you looking i see you i look at what you started now lets hook up come one give some of the that stuff let me freshin it up little one on one with no ruff lets go lets hook up when we start we wont stop baby baby dont stop come on give me some of that stuff lets go you are black culture you are black culture you are black culture you are black culture lets hook up come on give some of the that stuff let me freshin it up little one on one with no ruff lets go lets hook up when we start we wont stop baby baby dont stop come on give me some of that stuff lets go lets hook up come on give some of the that stuff let me freshin it up little one on one with no ruff lets go lets hook up when we start we wont stop baby baby dont stop come on give me some of that stuff lets go we are black culture we are black culture we are black culture we are black culture we are black culture we are black culture we are black culture we are black culture\n",
            "\n",
            "Recommended  4  songs are\n",
            "---------------------------\n",
            "song: home-within-your-heart\n",
            "lyrics: from underneath too tired to sleep too angry to pray too far down to get back up too lost to find my way who knows what happened im too confused to say and too far gone to turn back now its too late anyway i dont need a clever confidant to try to soothe with hollow words ive heard them all what i need is just to know i have a home within your heart just hold me close a few words will do we dont have to find the answers now its enough to be with you chorus\n",
            "---------------------------\n",
            "song: r-s-v-p\n",
            "lyrics: how will i know please send me an rsvp telepathically tell me i cant let it go if you sent a letter would it make it better or make it worse id probably just blow it like i always do but god i want that chance with you one arm around me while the other one is pushing me away if you gave me a call i wouldnt even mind it if you said the wrong thing or nothing at all if you gave me a sign that i could be the one to hold you up id never let you fall i know i wouldnt blow it like i always do if i just had a chance with you one arm around me while the other one is pushing me away how will i know please send an rsvp telepathically\n",
            "---------------------------\n",
            "song: jesus-loves-me-this-i-know\n",
            "lyrics: tell the world that jesus loves you tell them youve found a forever friend youve opened up your hearts door to him the love of jesus has no end you can choose what not to believe in you can deny theres a heaven above but once you take a look at jesus theres no denying that god is love tell the world that jesus loves you tell them youve found a forever friend youve opened up your hearts door to him the love of jesus has no end if you want to show that you really love him if you want to prove that your love is true then youll obey the word hes spoken and do all the things hes commanded you to\n",
            "---------------------------\n",
            "song: tell-the-world-that-jesus-loves-you\n",
            "lyrics: tell the world that jesus loves you tell them youve found a forever friend youve opened up your hearts door to him the love of jesus has no end you can choose what not to believe in you can deny theres a heaven above but once you take a look at jesus theres no denying that god is love tell the world that jesus loves you tell them youve found a forever friend youve opened up your hearts door to him the love of jesus has no end if you want to show that you really love him if you want to prove that your love is true then youll obey the word hes spoken and do all the things hes commanded you to\n"
          ],
          "name": "stdout"
        }
      ]
    },
    {
      "cell_type": "code",
      "metadata": {
        "id": "9ZPtP6UrMW0C",
        "colab_type": "code",
        "colab": {}
      },
      "source": [
        ""
      ],
      "execution_count": 0,
      "outputs": []
    }
  ]
}