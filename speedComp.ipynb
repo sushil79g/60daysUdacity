{
  "nbformat": 4,
  "nbformat_minor": 0,
  "metadata": {
    "colab": {
      "name": "speedComp.ipynb",
      "version": "0.3.2",
      "provenance": [],
      "collapsed_sections": [],
      "include_colab_link": true
    },
    "kernelspec": {
      "name": "python3",
      "display_name": "Python 3"
    }
  },
  "cells": [
    {
      "cell_type": "markdown",
      "metadata": {
        "id": "view-in-github",
        "colab_type": "text"
      },
      "source": [
        "<a href=\"https://colab.research.google.com/github/sushil79g/60daysUdacity/blob/master/speedComp.ipynb\" target=\"_parent\"><img src=\"https://colab.research.google.com/assets/colab-badge.svg\" alt=\"Open In Colab\"/></a>"
      ]
    },
    {
      "cell_type": "code",
      "metadata": {
        "id": "GvbErsCfSrmE",
        "colab_type": "code",
        "colab": {}
      },
      "source": [
        "#Lets take a nested loop operation to test speed using different approaches.. I am trying with matrix multiplication between both 3*3 matrix"
      ],
      "execution_count": 0,
      "outputs": []
    },
    {
      "cell_type": "code",
      "metadata": {
        "id": "ktVKYDtckg7a",
        "colab_type": "code",
        "colab": {}
      },
      "source": [
        "X = [[1,2,3],  \n",
        "     [4,5,6],  \n",
        "     [7,8,9]]  \n",
        " \n",
        "Y = [[10,11,12],  \n",
        "     [13,14,15],  \n",
        "     [16,17,18]]\n",
        "result = [[0,0,0],  \n",
        "          [0,0,0],  \n",
        "          [0,0,0]] "
      ],
      "execution_count": 0,
      "outputs": []
    },
    {
      "cell_type": "code",
      "metadata": {
        "id": "zoPDARvrlRvH",
        "colab_type": "code",
        "colab": {
          "base_uri": "https://localhost:8080/",
          "height": 68
        },
        "outputId": "4daefdc6-6d0d-4015-ef97-07e669ae8349"
      },
      "source": [
        "### Aadditional operation and time for all operation given\n",
        "%%time\n",
        "tic=timeit.default_timer()\n",
        "toc=timeit.default_timer()\n",
        "loop_time = toc - tic\n",
        "print('additional time:',loop_time)"
      ],
      "execution_count": 82,
      "outputs": [
        {
          "output_type": "stream",
          "text": [
            "additional time: 6.290001692832448e-07\n",
            "CPU times: user 604 µs, sys: 939 µs, total: 1.54 ms\n",
            "Wall time: 1.55 ms\n"
          ],
          "name": "stdout"
        }
      ]
    },
    {
      "cell_type": "code",
      "metadata": {
        "id": "vHzENCy2Pp6a",
        "colab_type": "code",
        "colab": {
          "base_uri": "https://localhost:8080/",
          "height": 68
        },
        "outputId": "07245a85-cbf5-4fcd-f14f-b6dba8e55fdb"
      },
      "source": [
        "#Using nested loop \n",
        " %%time\n",
        "tic=timeit.default_timer()\n",
        "for i in range(len(X)):  \n",
        "    for j in range(len(Y[0])):  \n",
        "        for k in range(len(Y)):  \n",
        "            result[i][j] += X[i][k] * Y[k][j] \n",
        "toc=timeit.default_timer()\n",
        "loop_time = toc - tic\n",
        "\n",
        "print('time for nested loop operation: ',loop_time)\n"
      ],
      "execution_count": 70,
      "outputs": [
        {
          "output_type": "stream",
          "text": [
            "time for nested loop operation:  2.1687999833375216e-05\n",
            "CPU times: user 0 ns, sys: 447 µs, total: 447 µs\n",
            "Wall time: 295 µs\n"
          ],
          "name": "stdout"
        }
      ]
    },
    {
      "cell_type": "code",
      "metadata": {
        "id": "bJAe2JzMRIMT",
        "colab_type": "code",
        "colab": {
          "base_uri": "https://localhost:8080/",
          "height": 51
        },
        "outputId": "090fa466-e23b-4bd5-abb7-e481bdd68aeb"
      },
      "source": [
        "#using list comprehension\n",
        "%%time\n",
        "result = [[sum(a*b for a,b in zip(X_row,Y_col)) for Y_col in zip(*Y)] for X_row in X]"
      ],
      "execution_count": 69,
      "outputs": [
        {
          "output_type": "stream",
          "text": [
            "CPU times: user 22 µs, sys: 5 µs, total: 27 µs\n",
            "Wall time: 30.8 µs\n"
          ],
          "name": "stdout"
        }
      ]
    },
    {
      "cell_type": "code",
      "metadata": {
        "id": "nTLZAJyNSBkQ",
        "colab_type": "code",
        "colab": {}
      },
      "source": [
        "import operator\n",
        "import itertools\n",
        "from pprint import pprint\n",
        "\n",
        "#link: for matmul using itertools : https://stackoverflow.com/questions/10504167/vector-matrix-multiplication-in-python?answertab=votes#tab-top\n"
      ],
      "execution_count": 0,
      "outputs": []
    },
    {
      "cell_type": "code",
      "metadata": {
        "id": "l-9AuNn4lBSJ",
        "colab_type": "code",
        "colab": {
          "base_uri": "https://localhost:8080/",
          "height": 68
        },
        "outputId": "dd69fe74-1dbf-4429-fbb9-ff331740ed78"
      },
      "source": [
        "%%time\n",
        "tic=timeit.default_timer()\n",
        "def dot(x, y):\n",
        "    assert len(x) == len(y)\n",
        "    return sum(itertools.starmap(operator.mul, zip(x, y)), [])\n",
        "\n",
        "def matmult(m, v):\n",
        "    return [dot(row, v) for row in m]\n",
        "\n",
        "matmult(X,Y)\n",
        "toc=timeit.default_timer()\n",
        "itertools_time = toc - tic\n",
        "\n",
        "print('using itertools', itertools_time)\n"
      ],
      "execution_count": 72,
      "outputs": [
        {
          "output_type": "stream",
          "text": [
            "using itertools 3.7961000089126173e-05\n",
            "CPU times: user 645 µs, sys: 0 ns, total: 645 µs\n",
            "Wall time: 654 µs\n"
          ],
          "name": "stdout"
        }
      ]
    },
    {
      "cell_type": "code",
      "metadata": {
        "id": "zJx6Z8e0lEor",
        "colab_type": "code",
        "colab": {}
      },
      "source": [
        "#using numpy\n",
        "import numpy as np"
      ],
      "execution_count": 0,
      "outputs": []
    },
    {
      "cell_type": "code",
      "metadata": {
        "id": "cw9a4icMUapi",
        "colab_type": "code",
        "colab": {
          "base_uri": "https://localhost:8080/",
          "height": 68
        },
        "outputId": "f3dd1df5-e1a6-4bd6-8c96-c002a1c68e83"
      },
      "source": [
        "%%time\n",
        "\n",
        "tic=timeit.default_timer()\n",
        "np.matmul(X,Y)\n",
        "toc=timeit.default_timer()\n",
        "numpy_time = toc - tic\n",
        "\n",
        "print('using numpy ', numpy_time)"
      ],
      "execution_count": 73,
      "outputs": [
        {
          "output_type": "stream",
          "text": [
            "using numpy  7.762800032651285e-05\n",
            "CPU times: user 535 µs, sys: 0 ns, total: 535 µs\n",
            "Wall time: 543 µs\n"
          ],
          "name": "stdout"
        }
      ]
    },
    {
      "cell_type": "code",
      "metadata": {
        "id": "IVrsToA5WcK5",
        "colab_type": "code",
        "colab": {
          "base_uri": "https://localhost:8080/",
          "height": 68
        },
        "outputId": "00857411-0e9e-4385-af9d-e0d1e6315942"
      },
      "source": [
        "#using einstine sum\n",
        "\n",
        "%%time\n",
        "a = np.array(X)\n",
        "b = np.array(Y)\n",
        "tic=timeit.default_timer()\n",
        "np.einsum('ik,kj->ij', a, b)\n",
        "toc=timeit.default_timer()\n",
        "\n",
        "einstine_time = toc-tic\n",
        "print('einstinesum time:', einstine_time)"
      ],
      "execution_count": 74,
      "outputs": [
        {
          "output_type": "stream",
          "text": [
            "einstinesum time: 5.049500032328069e-05\n",
            "CPU times: user 2.04 ms, sys: 0 ns, total: 2.04 ms\n",
            "Wall time: 6.85 ms\n"
          ],
          "name": "stdout"
        }
      ]
    },
    {
      "cell_type": "code",
      "metadata": {
        "id": "_K8TdIsilLPt",
        "colab_type": "code",
        "colab": {}
      },
      "source": [
        "#using torch\n",
        "import torch"
      ],
      "execution_count": 0,
      "outputs": []
    },
    {
      "cell_type": "code",
      "metadata": {
        "id": "7VmsasoUcKRh",
        "colab_type": "code",
        "colab": {
          "base_uri": "https://localhost:8080/",
          "height": 68
        },
        "outputId": "ff0ef861-2f7e-47f7-fdf2-f8591e6b3eb1"
      },
      "source": [
        "%%time\n",
        "a = torch.from_numpy(a)\n",
        "b = torch.from_numpy(b)\n",
        "tic=timeit.default_timer()\n",
        "torch.matmul(a, b)\n",
        "toc=timeit.default_timer()\n",
        "torch_time = toc-tic\n",
        "print('torch time:', torch_time)"
      ],
      "execution_count": 76,
      "outputs": [
        {
          "output_type": "stream",
          "text": [
            "torch time: 0.0003350810002302751\n",
            "CPU times: user 100 µs, sys: 2.06 ms, total: 2.16 ms\n",
            "Wall time: 3.24 ms\n"
          ],
          "name": "stdout"
        }
      ]
    },
    {
      "cell_type": "code",
      "metadata": {
        "id": "5YPYWhRalOnS",
        "colab_type": "code",
        "colab": {}
      },
      "source": [
        "#using tensorflow\n",
        "import tensorflow as tf\n",
        "a = tf.constant(X)\n",
        "b = tf.constant(Y)\n"
      ],
      "execution_count": 0,
      "outputs": []
    },
    {
      "cell_type": "code",
      "metadata": {
        "id": "SwVYyNmsdNXd",
        "colab_type": "code",
        "colab": {
          "base_uri": "https://localhost:8080/",
          "height": 68
        },
        "outputId": "065a8ce9-2315-4bd0-f24e-8c9c310ca518"
      },
      "source": [
        "%%time\n",
        "tic=timeit.default_timer()\n",
        "tf.matmul(a, b)\n",
        "toc=timeit.default_timer()\n",
        "tensorflow_time = toc-tic\n",
        "print('tensor time:', tensorflow_time)"
      ],
      "execution_count": 78,
      "outputs": [
        {
          "output_type": "stream",
          "text": [
            "tensor time: 0.0028138339994256967\n",
            "CPU times: user 3.67 ms, sys: 120 µs, total: 3.79 ms\n",
            "Wall time: 3.19 ms\n"
          ],
          "name": "stdout"
        }
      ]
    },
    {
      "cell_type": "code",
      "metadata": {
        "id": "6w9lsdBAfC4c",
        "colab_type": "code",
        "colab": {}
      },
      "source": [
        ""
      ],
      "execution_count": 0,
      "outputs": []
    }
  ]
}